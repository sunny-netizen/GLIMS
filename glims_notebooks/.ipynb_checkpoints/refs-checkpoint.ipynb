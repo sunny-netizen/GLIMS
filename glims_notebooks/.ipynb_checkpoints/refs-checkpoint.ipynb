{
 "cells": [
  {
   "cell_type": "markdown",
   "id": "bdb769f7-0803-44df-a441-606bef1976f8",
   "metadata": {},
   "source": [
    "https://wgms.ch/products_ref_glaciers/\n",
    "sept 1, 2023\n"
   ]
  },
  {
   "cell_type": "code",
   "execution_count": null,
   "id": "3e3e67a1-11b6-46cb-963e-478f22be041d",
   "metadata": {},
   "outputs": [],
   "source": [
    "# Import libraries\n",
    "import os\n",
    "import numpy as np\n",
    "import pandas as pd\n",
    "import geopandas as gpd\n",
    "import matplotlib.pyplot as plt\n",
    "import seaborn as sns\n",
    "import plotly.express as px\n",
    "\n",
    "\n",
    "# Check working directory\n",
    "current_directory = os.getcwd()\n",
    "print(\"Current Directory:\", current_directory)\n",
    "\n",
    "# Ask pandas to display all columns\n",
    "pd.set_option('display.max_columns', None)"
   ]
  },
  {
   "cell_type": "code",
   "execution_count": null,
   "id": "3b7c48fe-3fe2-4085-9c1c-59b403277fb4",
   "metadata": {},
   "outputs": [],
   "source": [
    "refs = pd.read(https://docs.google.com/spreadsheets/d/1SX4oygVapJzruIjO9JyhfdCQt7BOJr31IbuGy_ovx8w/edit?usp=sharing)"
   ]
  }
 ],
 "metadata": {
  "kernelspec": {
   "display_name": "Python 3 (ipykernel)",
   "language": "python",
   "name": "python3"
  },
  "language_info": {
   "codemirror_mode": {
    "name": "ipython",
    "version": 3
   },
   "file_extension": ".py",
   "mimetype": "text/x-python",
   "name": "python",
   "nbconvert_exporter": "python",
   "pygments_lexer": "ipython3",
   "version": "3.10.7"
  }
 },
 "nbformat": 4,
 "nbformat_minor": 5
}
