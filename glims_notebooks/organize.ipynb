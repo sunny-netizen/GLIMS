{
 "cells": [
  {
   "cell_type": "markdown",
   "id": "fdbbde51-7dab-4c18-b0a0-38fcdd8b19c9",
   "metadata": {},
   "source": [
    "# Organize Variables\n",
    "_Examine and modify datatypes - categorical, continuous, discrete. Organize dataset._ \n",
    "\n",
    "Polygons has most of the data and will serve as the focus of this EDA.\n",
    "\n",
    "## Remove Non-Glacier Columns\n",
    "Since the purpose is to find data stories about glaciers rather than the glacier research process, variables pertaining data submission and measurement uncertainty are identified, referencing the [User Guide](https://nsidc.org/sites/default/files/nsidc-0272-v001-userguide_1.pdf) and the [GLIMS Description of fields](http://www.glims.org/MapsAndDocs/downloaded_field_desc.html), verified, and removed."
   ]
  },
  {
   "cell_type": "code",
   "execution_count": 1,
   "id": "72b04a69-98cb-46d1-9407-5a89cb8597a0",
   "metadata": {},
   "outputs": [
    {
     "name": "stdout",
     "output_type": "stream",
     "text": [
      "Current Directory: /Users/yun/Documents/GLIMS/GLIMS_20230716\n"
     ]
    }
   ],
   "source": [
    "# Import libraries\n",
    "import os\n",
    "import numpy as np\n",
    "import pandas as pd\n",
    "import geopandas as gpd\n",
    "import matplotlib.pyplot as plt\n",
    "import seaborn as sns\n",
    "\n",
    "# Check working directory\n",
    "current_directory = os.getcwd()\n",
    "print(\"Current Directory:\", current_directory)\n",
    "\n",
    "# Ask pandas to display all columns\n",
    "pd.set_option('display.max_columns', None)"
   ]
  },
  {
   "cell_type": "code",
   "execution_count": null,
   "id": "9586a56e-9b7d-4e24-ac9f-ac66d5499369",
   "metadata": {},
   "outputs": [],
   "source": [
    "# Load Esri shapefiles as geopandas dataframes\n",
    "polygons = gpd.read_file(\"glims_download_13173/glims_polygons.shp\")"
   ]
  },
  {
   "cell_type": "code",
   "execution_count": null,
   "id": "85d6697a-9fd0-4840-bf24-f27db7189a74",
   "metadata": {},
   "outputs": [],
   "source": [
    "polygons.dtypes"
   ]
  },
  {
   "cell_type": "raw",
   "id": "a75f507e-65ca-4d2d-90c6-2e11fb74e8f1",
   "metadata": {},
   "source": [
    "Glacier --------------------------keep most\n",
    "line_type       object\n",
    "anlys_id       float64\n",
    "glac_id         object\n",
    "anlys_time      object\n",
    "area           float64\n",
    "db_area        float64\n",
    "width          float64\n",
    "length         float64\n",
    "primeclass     float64\n",
    "min_elev       float64\n",
    "mean_elev      float64\n",
    "max_elev       float64\n",
    "src_date        object\n",
    "rec_status      object-----remove\n",
    "glac_name       object\n",
    "wgms_id         object-----remove\n",
    "local_id        object-----remove\n",
    "glac_stat       object\n",
    "\n",
    "Non-Glacier ----------------------remove all\n",
    "subm_id        float64\n",
    "release_dt      object\n",
    "proc_desc       object\n",
    "rc_id          float64\n",
    "geog_area       object\n",
    "chief_affl      object\n",
    "loc_unc_x        int64\n",
    "loc_unc_y        int64\n",
    "glob_unc_x       int64\n",
    "glob_unc_y       int64\n",
    "submitters      object\n",
    "analysts        object\n",
    "\n",
    "geometry      geometry------keep"
   ]
  },
  {
   "cell_type": "code",
   "execution_count": null,
   "id": "32484011-139a-4a25-930a-e5f6426ba746",
   "metadata": {},
   "outputs": [],
   "source": [
    "# all are \"okay\", as expected from documentation\n",
    "polygons.rec_status.value_counts()\n",
    "polygons.proc_desc.nunique()"
   ]
  },
  {
   "cell_type": "code",
   "execution_count": null,
   "id": "4bc128d0-81f1-4889-a241-16ae0d02f5f2",
   "metadata": {},
   "outputs": [],
   "source": [
    "# Lots of \"None\"\n",
    "polygons.wgms_id.value_counts(normalize=True) # 91% \"None\"\n",
    "polygons.local_id.value_counts(normalize=True) # 65% \"None\""
   ]
  },
  {
   "cell_type": "code",
   "execution_count": null,
   "id": "238638b9-a0d3-4d25-a5fc-a3e99f2fd9e5",
   "metadata": {},
   "outputs": [],
   "source": [
    "# Some of these fields may be related to each other: proc_desc and analysts; submitters, rc_id, geog_area, and chief_affl\n",
    "polygons[[\n",
    "    #'line_type', #'rec_status', #'glac_stat', \n",
    "    #'area', 'db_area','width', 'length', 'primeclass', 'min_elev', 'mean_elev', 'max_elev',\n",
    "    'anlys_id', 'glac_id', 'glac_name', 'wgms_id', 'local_id',\n",
    "    'anlys_time', 'src_date', 'subm_id', 'release_dt', \n",
    "    'proc_desc', 'rc_id', 'geog_area','chief_affl', 'submitters', 'analysts', \n",
    "    #'loc_unc_x', 'loc_unc_y', 'glob_unc_x', 'glob_unc_y', #'geometry'\n",
    "]].nunique().sort_values(ascending=False)"
   ]
  },
  {
   "cell_type": "code",
   "execution_count": null,
   "id": "b075e14c-b8d6-44ff-b5c5-e3ec1f77da9a",
   "metadata": {},
   "outputs": [],
   "source": [
    "# Alignments with higher value counts\n",
    "polygons[[\n",
    "    'proc_desc', \n",
    "    'rc_id', \n",
    "    'geog_area', # 'umbrella' and 'various' categories too large to be useful\n",
    "    'chief_affl', \n",
    "    'submitters', \n",
    "    'analysts'\n",
    "]].value_counts()"
   ]
  },
  {
   "cell_type": "code",
   "execution_count": null,
   "id": "f38d01d4-b5c2-4941-944f-30b1e76a4a9b",
   "metadata": {},
   "outputs": [],
   "source": [
    "# Continuous Temporal, not defined in documentation, data release?\n",
    "polygons.release_dt.hist();"
   ]
  },
  {
   "cell_type": "code",
   "execution_count": null,
   "id": "88264707-7163-4b37-93bf-166aa3a5d35b",
   "metadata": {},
   "outputs": [],
   "source": [
    "# Positional Uncertainty, Discrete\n",
    "polygons[['loc_unc_x', 'loc_unc_y', 'glob_unc_x', 'glob_unc_y']].hist();"
   ]
  },
  {
   "cell_type": "code",
   "execution_count": null,
   "id": "9abf96d2-2a25-4bd5-b5a9-025379fe4afd",
   "metadata": {},
   "outputs": [],
   "source": [
    "# Remove submission-related columns\n",
    "polygons1 = polygons.drop(labels=[\n",
    "    'rec_status', 'wgms_id', 'local_id', \n",
    "    'subm_id', 'release_dt', 'proc_desc', \n",
    "    'rc_id', 'geog_area', 'chief_affl', \n",
    "    'loc_unc_x', 'loc_unc_y', 'glob_unc_x', 'glob_unc_y',\n",
    "    'submitters', 'analysts'\n",
    "], axis=1)"
   ]
  },
  {
   "cell_type": "code",
   "execution_count": null,
   "id": "484f02de-269e-48fc-ac33-1eea4f3f20c3",
   "metadata": {},
   "outputs": [],
   "source": [
    "polygons1.dtypes"
   ]
  },
  {
   "cell_type": "markdown",
   "id": "2ee281cd-23d1-4325-8100-4b3e07bb9c88",
   "metadata": {},
   "source": [
    "## Remove Non-Glacier Rows\n",
    "Remove polygon features representing non-glacier boundaries."
   ]
  },
  {
   "cell_type": "code",
   "execution_count": null,
   "id": "f2539372-9061-44f5-ba3f-cbdce2e29451",
   "metadata": {},
   "outputs": [],
   "source": [
    "# Most entities are glacier boundaries.\n",
    "polygons1.line_type.value_counts()"
   ]
  },
  {
   "cell_type": "code",
   "execution_count": null,
   "id": "359bebfe-ff48-4f7f-b968-e59e832b4f1b",
   "metadata": {},
   "outputs": [],
   "source": [
    "# Remove non-glacier entities.\n",
    "polygons2 = polygons1[polygons1.line_type==\"glac_bound\"]\n",
    "#polygons2.line_type.value_counts()\n",
    "polygons2.drop('line_type', axis=1, inplace=True)"
   ]
  },
  {
   "cell_type": "code",
   "execution_count": null,
   "id": "f76dd34e-ffe4-43c8-981a-a45c92d0d845",
   "metadata": {},
   "outputs": [],
   "source": [
    "polygons2.dtypes"
   ]
  },
  {
   "cell_type": "raw",
   "id": "c7e23888-f14a-418e-b908-5893ec7f5cc2",
   "metadata": {},
   "source": [
    "anlys_id       float64     categorical, id\n",
    "glac_id         object     categorical, id \n",
    "glac_name       object     categorical, id\n",
    "\n",
    "glac_stat       object     categorical\n",
    "primeclass     float64     categorical\n",
    "\n",
    "anlys_time      object     continuous, temporal\n",
    "src_date        object     continuous, temporal\n",
    "\n",
    "area           float64     continuous\n",
    "db_area        float64     continuous\n",
    "width          float64     continuous\n",
    "length         float64     continuous\n",
    "\n",
    "min_elev       float64     continuous\n",
    "mean_elev      float64     continuous\n",
    "max_elev       float64     continuous"
   ]
  },
  {
   "cell_type": "code",
   "execution_count": null,
   "id": "13eba3c7-6fcc-4e48-80e3-5c3a36333400",
   "metadata": {},
   "outputs": [],
   "source": [
    "# Minimal NAN's address later\n",
    "polygons2.isna().sum()"
   ]
  },
  {
   "cell_type": "code",
   "execution_count": null,
   "id": "50138fbc-e668-4603-9df9-ab7032cdc4c5",
   "metadata": {},
   "outputs": [],
   "source": [
    "polygons2.sample(5)"
   ]
  },
  {
   "cell_type": "code",
   "execution_count": null,
   "id": "8807ff40-73f3-4fc1-88fe-f5f824bfb9d0",
   "metadata": {},
   "outputs": [],
   "source": [
    "polygons2.to_csv(\"polygons2.csv\", index=False)"
   ]
  }
 ],
 "metadata": {
  "kernelspec": {
   "display_name": "Python 3 (ipykernel)",
   "language": "python",
   "name": "python3"
  },
  "language_info": {
   "codemirror_mode": {
    "name": "ipython",
    "version": 3
   },
   "file_extension": ".py",
   "mimetype": "text/x-python",
   "name": "python",
   "nbconvert_exporter": "python",
   "pygments_lexer": "ipython3",
   "version": "3.10.7"
  }
 },
 "nbformat": 4,
 "nbformat_minor": 5
}
