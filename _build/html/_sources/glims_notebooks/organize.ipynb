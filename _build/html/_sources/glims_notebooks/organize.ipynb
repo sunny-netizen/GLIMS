{
 "cells": [
  {
   "cell_type": "markdown",
   "id": "fdbbde51-7dab-4c18-b0a0-38fcdd8b19c9",
   "metadata": {},
   "source": [
    "# Organize Variables\n",
    "_Examine and modify datatypes - categorical, continuous, discrete. Organize dataset._ \n",
    "\n",
    "Polygons has most of the data and will serve as the focus of this EDA.\n",
    "\n",
    "## Remove Non-Glacier Columns\n",
    "Since the purpose is to find data stories about glaciers rather than the glacier research process, variables pertaining data submission and measurement uncertainty are identified, referencing the [User Guide](https://nsidc.org/sites/default/files/nsidc-0272-v001-userguide_1.pdf) and the [GLIMS Description of fields](http://www.glims.org/MapsAndDocs/downloaded_field_desc.html), verified, and removed."
   ]
  },
  {
   "cell_type": "code",
   "execution_count": 1,
   "id": "72b04a69-98cb-46d1-9407-5a89cb8597a0",
   "metadata": {},
   "outputs": [
    {
     "name": "stdout",
     "output_type": "stream",
     "text": [
      "Current Directory: /Users/yun/Documents/GLIMS/glims_notebooks\n"
     ]
    }
   ],
   "source": [
    "# Import libraries\n",
    "import os\n",
    "import numpy as np\n",
    "import pandas as pd\n",
    "import geopandas as gpd\n",
    "import matplotlib.pyplot as plt\n",
    "import seaborn as sns\n",
    "\n",
    "# Check working directory\n",
    "current_directory = os.getcwd()\n",
    "print(\"Current Directory:\", current_directory)\n",
    "\n",
    "# Ask pandas to display all columns\n",
    "pd.set_option('display.max_columns', None)"
   ]
  },
  {
   "cell_type": "code",
   "execution_count": 2,
   "id": "9586a56e-9b7d-4e24-ac9f-ac66d5499369",
   "metadata": {},
   "outputs": [],
   "source": [
    "# Load Esri shapefiles as geopandas dataframes\n",
    "polygons = gpd.read_file(\"GLIMS_20230716/glims_download_13173/glims_polygons.shp\")"
   ]
  },
  {
   "cell_type": "code",
   "execution_count": 3,
   "id": "85d6697a-9fd0-4840-bf24-f27db7189a74",
   "metadata": {},
   "outputs": [
    {
     "data": {
      "text/plain": [
       "line_type       object\n",
       "anlys_id       float64\n",
       "glac_id         object\n",
       "anlys_time      object\n",
       "area           float64\n",
       "db_area        float64\n",
       "width          float64\n",
       "length         float64\n",
       "primeclass     float64\n",
       "min_elev       float64\n",
       "mean_elev      float64\n",
       "max_elev       float64\n",
       "src_date        object\n",
       "rec_status      object\n",
       "glac_name       object\n",
       "wgms_id         object\n",
       "local_id        object\n",
       "glac_stat       object\n",
       "subm_id        float64\n",
       "release_dt      object\n",
       "proc_desc       object\n",
       "rc_id          float64\n",
       "geog_area       object\n",
       "chief_affl      object\n",
       "loc_unc_x        int64\n",
       "loc_unc_y        int64\n",
       "glob_unc_x       int64\n",
       "glob_unc_y       int64\n",
       "submitters      object\n",
       "analysts        object\n",
       "geometry      geometry\n",
       "dtype: object"
      ]
     },
     "execution_count": 3,
     "metadata": {},
     "output_type": "execute_result"
    }
   ],
   "source": [
    "polygons.dtypes"
   ]
  },
  {
   "cell_type": "raw",
   "id": "a75f507e-65ca-4d2d-90c6-2e11fb74e8f1",
   "metadata": {},
   "source": [
    "Glacier --------------------------keep most\n",
    "line_type       object\n",
    "anlys_id       float64\n",
    "glac_id         object\n",
    "anlys_time      object\n",
    "area           float64\n",
    "db_area        float64\n",
    "width          float64\n",
    "length         float64\n",
    "primeclass     float64\n",
    "min_elev       float64\n",
    "mean_elev      float64\n",
    "max_elev       float64\n",
    "src_date        object\n",
    "rec_status      object-----remove\n",
    "glac_name       object\n",
    "wgms_id         object-----remove\n",
    "local_id        object-----remove\n",
    "glac_stat       object\n",
    "\n",
    "Non-Glacier ----------------------remove all\n",
    "subm_id        float64\n",
    "release_dt      object\n",
    "proc_desc       object\n",
    "rc_id          float64\n",
    "geog_area       object\n",
    "chief_affl      object\n",
    "loc_unc_x        int64\n",
    "loc_unc_y        int64\n",
    "glob_unc_x       int64\n",
    "glob_unc_y       int64\n",
    "submitters      object\n",
    "analysts        object\n",
    "\n",
    "geometry      geometry------keep"
   ]
  },
  {
   "cell_type": "code",
   "execution_count": 4,
   "id": "32484011-139a-4a25-930a-e5f6426ba746",
   "metadata": {},
   "outputs": [
    {
     "data": {
      "text/plain": [
       "165"
      ]
     },
     "execution_count": 4,
     "metadata": {},
     "output_type": "execute_result"
    }
   ],
   "source": [
    "# all are \"okay\", as expected from documentation\n",
    "polygons.rec_status.value_counts()\n",
    "polygons.proc_desc.nunique()"
   ]
  },
  {
   "cell_type": "code",
   "execution_count": 5,
   "id": "4bc128d0-81f1-4889-a241-16ae0d02f5f2",
   "metadata": {},
   "outputs": [
    {
     "data": {
      "text/plain": [
       "None                        0.649243\n",
       "GR50.11096E32.29309N_Zr2    0.000173\n",
       "GIJR115                     0.000133\n",
       "NPI-22                      0.000115\n",
       "NPI-39                      0.000115\n",
       "                              ...   \n",
       "08EC232531E55523N           0.000002\n",
       "08AC223282E59430N           0.000002\n",
       "08EA232117E57081N           0.000002\n",
       "08MG236598E50776N           0.000002\n",
       "3266                        0.000002\n",
       "Name: local_id, Length: 69166, dtype: float64"
      ]
     },
     "execution_count": 5,
     "metadata": {},
     "output_type": "execute_result"
    }
   ],
   "source": [
    "# Lots of \"None\"\n",
    "polygons.wgms_id.value_counts(normalize=True) # 91% \"None\"\n",
    "polygons.local_id.value_counts(normalize=True) # 65% \"None\""
   ]
  },
  {
   "cell_type": "code",
   "execution_count": 6,
   "id": "238638b9-a0d3-4d25-a5fc-a3e99f2fd9e5",
   "metadata": {},
   "outputs": [
    {
     "data": {
      "text/plain": [
       "anlys_id      557884\n",
       "glac_id       328115\n",
       "local_id       69166\n",
       "glac_name      35112\n",
       "wgms_id        17239\n",
       "src_date        1178\n",
       "subm_id          624\n",
       "anlys_time       456\n",
       "release_dt       278\n",
       "proc_desc        165\n",
       "analysts         109\n",
       "submitters        67\n",
       "rc_id             53\n",
       "geog_area         49\n",
       "chief_affl        46\n",
       "dtype: int64"
      ]
     },
     "execution_count": 6,
     "metadata": {},
     "output_type": "execute_result"
    }
   ],
   "source": [
    "# Some of these fields may be related to each other: proc_desc and analysts; submitters, rc_id, geog_area, and chief_affl\n",
    "polygons[[\n",
    "    #'line_type', #'rec_status', #'glac_stat', \n",
    "    #'area', 'db_area','width', 'length', 'primeclass', 'min_elev', 'mean_elev', 'max_elev',\n",
    "    'anlys_id', 'glac_id', 'glac_name', 'wgms_id', 'local_id',\n",
    "    'anlys_time', 'src_date', 'subm_id', 'release_dt', \n",
    "    'proc_desc', 'rc_id', 'geog_area','chief_affl', 'submitters', 'analysts', \n",
    "    #'loc_unc_x', 'loc_unc_y', 'glob_unc_x', 'glob_unc_y', #'geometry'\n",
    "]].nunique().sort_values(ascending=False)"
   ]
  },
  {
   "cell_type": "code",
   "execution_count": 7,
   "id": "b075e14c-b8d6-44ff-b5c5-e3ec1f77da9a",
   "metadata": {},
   "outputs": [
    {
     "data": {
      "text/plain": [
       "proc_desc                                                                                                                                                                                                                                                       rc_id  geog_area                                                               chief_affl                                                         submitters                        analysts                                                                                                                                         \n",
       "Semi-automated glacier classification; Semi-automated mapping from optical imagery, with manual editing.                                                                                                                                                        36.0   Asia                                                                    Nagoya University                                                  Sakai, Akiko                      Sakai, Akiko                                                                                                                                         133414\n",
       "Semi-automated glacier classification.; From Randolph Glacier Inventory Version 5.0. See http://www.glims.org/RGI/. Multispectral classification followed by manual correct for blunders and debris. Metadata was added at NSIDC.                               761.0  Randolph Glacier Inventory; Umbrella RC for merging the RGI into GLIMS  University of Colorado                                             Cogley, Graham                    Bolch, Tobias; Cogley, Graham; Frey, Holger; Guo, Wanqing; Liu, Shiyin; Moelg, Nico; Nuimura, Takayuki; Paul, Frank; Raup, Bruce H.; Sakai, Akiko     54397\n",
       "Semi-automated glacier classification.;                                                                                                                                                                                                                         8.0    China                                                                   Chinese Academy of Sciences                                        Liu, Shiyin                       Guo, Wanqin; Liu, Shiyin                                                                                                                              48569\n",
       "Object-based semi-automated glacier classification. See http://lib.icimod.org/record/29591; The glacier inventory was developed based on remote sensing tools and techniques, using semi-automatic multi-resolution segmentation of Landsat satellite images a  12.0   Himalaya (India, Nepal, Bhutan)                                         International Centre for Integrated Mountain Development (ICIMOD)  Bajracharya, Samjwal              Bajracharya, Samjwal; Guo, Wanqin; Maharjan, SB; Shrestha, Finu                                                                                       38201\n",
       "Semi-automated glacier classification.; From Randolph Glacier Inventory Version 5.0. See http://www.glims.org/RGI/. Multispectral classification followed by manual correct for blunders and debris. Metadata was added at NSIDC.                               761.0  Randolph Glacier Inventory; Umbrella RC for merging the RGI into GLIMS  University of Colorado                                             Cogley, Graham                    Bolch, Tobias; Cogley, Graham; Frey, Holger; Guo, Wanqing; Liu, Shiyin; Nuimura, Takayuki; Paul, Frank; Raup, Bruce H.; Sakai, Akiko                  27861\n",
       "                                                                                                                                                                                                                                                                                                                                                                                                                                                                                                                                                                                                          ...  \n",
       "Manual digitization with the aid of USGS topographic maps to define flow boundaries.; Manual digitization from imagery with assistance to outline flow divides from USGS topographic maps.  Each outlined glacier encompasses all ice that contributes to a co  602.0  Various (NSIDC)                                                         University of Colorado                                             Beedle, Matthew                   Beedle, Matthew                                                                                                                                           1\n",
       "Manual glacier classification.; Manual glacier mapping from LIMA imagery                                                                                                                                                                                        15.0   West Antarctica                                                         Tongji University                                                  HAI, Gang                         HAI, Gang; LI, Rongxing; Tian, Yixiang; Xie, Huan                                                                                                         1\n",
       "Advanced atmospheric and topographic correction of S2A scenes, automated pre-classification of glacier areas, manual correction of minor misclassifications and in debris covered areas; Correction of outline for this one glacier.                            34.0   Austrian Alps                                                           Universitaet Innsbruck                                             Schwaizer (nee Bippus), Gabriele  Nemec, Johanna; Schwaizer (nee Bippus), Gabriele                                                                                                          1\n",
       "Manual Digitization; manual digitization using GLIMSView of the Landsat 7 image.                                                                                                                                                                                602.0  Various (NSIDC)                                                         University of Colorado                                             Beedle, Matthew                   Beedle, Matthew                                                                                                                                           1\n",
       "; 1. ASTER L1B data acquisition LP DAAC; 2. Orthorectification subsystem VNIR with SRTM90 data; 3. Co registration with Landsat TM data from GLCF University of Maryland; 4. On screen manual digitization; 5. Surface area, length, widht measurements; 6. Sn  20.0   Chilean glaciers, between -18 and -56 degrees latitude                  Universidad de Chile                                               Zenteno, Pablo                    Zenteno, Pablo                                                                                                                                            1\n",
       "Length: 191, dtype: int64"
      ]
     },
     "execution_count": 7,
     "metadata": {},
     "output_type": "execute_result"
    }
   ],
   "source": [
    "# Alignments with higher value counts\n",
    "polygons[[\n",
    "    'proc_desc', \n",
    "    'rc_id', \n",
    "    'geog_area', # 'umbrella' and 'various' categories too large to be useful\n",
    "    'chief_affl', \n",
    "    'submitters', \n",
    "    'analysts'\n",
    "]].value_counts()"
   ]
  },
  {
   "cell_type": "code",
   "execution_count": 8,
   "id": "f38d01d4-b5c2-4941-944f-30b1e76a4a9b",
   "metadata": {},
   "outputs": [
    {
     "data": {
      "image/png": "[encoded data removed]",
      "text/plain": [
       "<Figure size 640x480 with 1 Axes>"
      ]
     },
     "metadata": {},
     "output_type": "display_data"
    }
   ],
   "source": [
    "# Continuous Temporal, not defined in documentation, data release?\n",
    "polygons.release_dt.hist();"
   ]
  },
  {
   "cell_type": "code",
   "execution_count": 9,
   "id": "88264707-7163-4b37-93bf-166aa3a5d35b",
   "metadata": {},
   "outputs": [
    {
     "data": {
      "image/png": "[encoded data removed]",
      "text/plain": [
       "<Figure size 640x480 with 4 Axes>"
      ]
     },
     "metadata": {},
     "output_type": "display_data"
    }
   ],
   "source": [
    "# Positional Uncertainty, Discrete\n",
    "polygons[['loc_unc_x', 'loc_unc_y', 'glob_unc_x', 'glob_unc_y']].hist();"
   ]
  },
  {
   "cell_type": "code",
   "execution_count": 10,
   "id": "9abf96d2-2a25-4bd5-b5a9-025379fe4afd",
   "metadata": {},
   "outputs": [],
   "source": [
    "# Remove submission-related columns\n",
    "polygons1 = polygons.drop(labels=[\n",
    "    'rec_status', 'wgms_id', 'local_id', \n",
    "    'subm_id', 'release_dt', 'proc_desc', \n",
    "    'rc_id', 'geog_area', 'chief_affl', \n",
    "    'loc_unc_x', 'loc_unc_y', 'glob_unc_x', 'glob_unc_y',\n",
    "    'submitters', 'analysts'\n",
    "], axis=1)"
   ]
  },
  {
   "cell_type": "code",
   "execution_count": 11,
   "id": "484f02de-269e-48fc-ac33-1eea4f3f20c3",
   "metadata": {},
   "outputs": [
    {
     "data": {
      "text/plain": [
       "line_type       object\n",
       "anlys_id       float64\n",
       "glac_id         object\n",
       "anlys_time      object\n",
       "area           float64\n",
       "db_area        float64\n",
       "width          float64\n",
       "length         float64\n",
       "primeclass     float64\n",
       "min_elev       float64\n",
       "mean_elev      float64\n",
       "max_elev       float64\n",
       "src_date        object\n",
       "glac_name       object\n",
       "glac_stat       object\n",
       "geometry      geometry\n",
       "dtype: object"
      ]
     },
     "execution_count": 11,
     "metadata": {},
     "output_type": "execute_result"
    }
   ],
   "source": [
    "polygons1.dtypes"
   ]
  },
  {
   "cell_type": "markdown",
   "id": "2ee281cd-23d1-4325-8100-4b3e07bb9c88",
   "metadata": {},
   "source": [
    "## Remove Non-Glacier Rows\n",
    "Remove polygon features representing non-glacier boundaries."
   ]
  },
  {
   "cell_type": "code",
   "execution_count": 12,
   "id": "f2539372-9061-44f5-ba3f-cbdce2e29451",
   "metadata": {},
   "outputs": [
    {
     "data": {
      "text/plain": [
       "glac_bound     564112\n",
       "debris_cov       1005\n",
       "intrnl_rock       452\n",
       "pro_lake          291\n",
       "supra_lake         18\n",
       "basin_bound         9\n",
       "Name: line_type, dtype: int64"
      ]
     },
     "execution_count": 12,
     "metadata": {},
     "output_type": "execute_result"
    }
   ],
   "source": [
    "# Most entities are glacier boundaries.\n",
    "polygons1.line_type.value_counts()"
   ]
  },
  {
   "cell_type": "code",
   "execution_count": 13,
   "id": "359bebfe-ff48-4f7f-b968-e59e832b4f1b",
   "metadata": {},
   "outputs": [
    {
     "name": "stderr",
     "output_type": "stream",
     "text": [
      "/var/folders/13/hf_sfnls1lq6kn8vsc92q40h0000gn/T/ipykernel_36738/1093122923.py:4: SettingWithCopyWarning: \n",
      "A value is trying to be set on a copy of a slice from a DataFrame\n",
      "\n",
      "See the caveats in the documentation: https://pandas.pydata.org/pandas-docs/stable/user_guide/indexing.html#returning-a-view-versus-a-copy\n",
      "  polygons2.drop('line_type', axis=1, inplace=True)\n"
     ]
    }
   ],
   "source": [
    "# Remove non-glacier entities.\n",
    "polygons2 = polygons1[polygons1.line_type==\"glac_bound\"]\n",
    "#polygons2.line_type.value_counts()\n",
    "polygons2.drop('line_type', axis=1, inplace=True)"
   ]
  },
  {
   "cell_type": "code",
   "execution_count": 14,
   "id": "f76dd34e-ffe4-43c8-981a-a45c92d0d845",
   "metadata": {},
   "outputs": [
    {
     "data": {
      "text/plain": [
       "anlys_id       float64\n",
       "glac_id         object\n",
       "anlys_time      object\n",
       "area           float64\n",
       "db_area        float64\n",
       "width          float64\n",
       "length         float64\n",
       "primeclass     float64\n",
       "min_elev       float64\n",
       "mean_elev      float64\n",
       "max_elev       float64\n",
       "src_date        object\n",
       "glac_name       object\n",
       "glac_stat       object\n",
       "geometry      geometry\n",
       "dtype: object"
      ]
     },
     "execution_count": 14,
     "metadata": {},
     "output_type": "execute_result"
    }
   ],
   "source": [
    "polygons2.dtypes"
   ]
  },
  {
   "cell_type": "raw",
   "id": "c7e23888-f14a-418e-b908-5893ec7f5cc2",
   "metadata": {},
   "source": [
    "anlys_id       float64     categorical, id\n",
    "glac_id         object     categorical, id \n",
    "glac_name       object     categorical, id\n",
    "\n",
    "glac_stat       object     categorical\n",
    "primeclass     float64     categorical\n",
    "\n",
    "anlys_time      object     continuous, temporal\n",
    "src_date        object     continuous, temporal\n",
    "\n",
    "area           float64     continuous\n",
    "db_area        float64     continuous\n",
    "width          float64     continuous\n",
    "length         float64     continuous\n",
    "\n",
    "min_elev       float64     continuous\n",
    "mean_elev      float64     continuous\n",
    "max_elev       float64     continuous"
   ]
  },
  {
   "cell_type": "code",
   "execution_count": 15,
   "id": "13eba3c7-6fcc-4e48-80e3-5c3a36333400",
   "metadata": {},
   "outputs": [
    {
     "data": {
      "text/plain": [
       "anlys_id       0\n",
       "glac_id        0\n",
       "anlys_time     0\n",
       "area           0\n",
       "db_area        0\n",
       "width          0\n",
       "length         0\n",
       "primeclass     0\n",
       "min_elev       0\n",
       "mean_elev      0\n",
       "max_elev       0\n",
       "src_date       0\n",
       "glac_name     12\n",
       "glac_stat      0\n",
       "geometry       0\n",
       "dtype: int64"
      ]
     },
     "execution_count": 15,
     "metadata": {},
     "output_type": "execute_result"
    }
   ],
   "source": [
    "# Minimal NAN's address later\n",
    "polygons2.isna().sum()"
   ]
  },
  {
   "cell_type": "code",
   "execution_count": 16,
   "id": "50138fbc-e668-4603-9df9-ab7032cdc4c5",
   "metadata": {},
   "outputs": [
    {
     "data": {
      "text/html": [
       "<div>\n",
       "<style scoped>\n",
       "    .dataframe tbody tr th:only-of-type {\n",
       "        vertical-align: middle;\n",
       "    }\n",
       "\n",
       "    .dataframe tbody tr th {\n",
       "        vertical-align: top;\n",
       "    }\n",
       "\n",
       "    .dataframe thead th {\n",
       "        text-align: right;\n",
       "    }\n",
       "</style>\n",
       "<table border=\"1\" class=\"dataframe\">\n",
       "  <thead>\n",
       "    <tr style=\"text-align: right;\">\n",
       "      <th></th>\n",
       "      <th>anlys_id</th>\n",
       "      <th>glac_id</th>\n",
       "      <th>anlys_time</th>\n",
       "      <th>area</th>\n",
       "      <th>db_area</th>\n",
       "      <th>width</th>\n",
       "      <th>length</th>\n",
       "      <th>primeclass</th>\n",
       "      <th>min_elev</th>\n",
       "      <th>mean_elev</th>\n",
       "      <th>max_elev</th>\n",
       "      <th>src_date</th>\n",
       "      <th>glac_name</th>\n",
       "      <th>glac_stat</th>\n",
       "      <th>geometry</th>\n",
       "    </tr>\n",
       "  </thead>\n",
       "  <tbody>\n",
       "    <tr>\n",
       "      <th>564072</th>\n",
       "      <td>715697.0</td>\n",
       "      <td>G272254E81788N</td>\n",
       "      <td>2021-08-01T00:00:00</td>\n",
       "      <td>13.111200</td>\n",
       "      <td>13.178300</td>\n",
       "      <td>0.0</td>\n",
       "      <td>0.0</td>\n",
       "      <td>0.0</td>\n",
       "      <td>279.0</td>\n",
       "      <td>611.0</td>\n",
       "      <td>896.0</td>\n",
       "      <td>1999-07-24T00:00:00</td>\n",
       "      <td>None</td>\n",
       "      <td>exists</td>\n",
       "      <td>POLYGON Z ((-87.62692 81.80468 0.00000, -87.62...</td>\n",
       "    </tr>\n",
       "    <tr>\n",
       "      <th>402885</th>\n",
       "      <td>638342.0</td>\n",
       "      <td>G091054E47736N</td>\n",
       "      <td>2018-07-01T00:00:00</td>\n",
       "      <td>0.000000</td>\n",
       "      <td>0.068239</td>\n",
       "      <td>0.0</td>\n",
       "      <td>0.0</td>\n",
       "      <td>0.0</td>\n",
       "      <td>0.0</td>\n",
       "      <td>0.0</td>\n",
       "      <td>0.0</td>\n",
       "      <td>2002-07-10T00:00:00</td>\n",
       "      <td>None</td>\n",
       "      <td>exists</td>\n",
       "      <td>POLYGON Z ((91.05266 47.73642 0.00000, 91.0526...</td>\n",
       "    </tr>\n",
       "    <tr>\n",
       "      <th>382344</th>\n",
       "      <td>522870.0</td>\n",
       "      <td>G018607E78547N</td>\n",
       "      <td>2017-10-01T00:00:00</td>\n",
       "      <td>0.000000</td>\n",
       "      <td>36.640700</td>\n",
       "      <td>0.0</td>\n",
       "      <td>0.0</td>\n",
       "      <td>0.0</td>\n",
       "      <td>0.0</td>\n",
       "      <td>0.0</td>\n",
       "      <td>0.0</td>\n",
       "      <td>1990-07-31T00:00:00</td>\n",
       "      <td>Johansenbreen</td>\n",
       "      <td>exists</td>\n",
       "      <td>POLYGON Z ((18.87952 78.52250 0.00000, 18.8334...</td>\n",
       "    </tr>\n",
       "    <tr>\n",
       "      <th>422908</th>\n",
       "      <td>609777.0</td>\n",
       "      <td>G081162E35762N</td>\n",
       "      <td>2018-07-01T00:00:00</td>\n",
       "      <td>0.000000</td>\n",
       "      <td>0.832443</td>\n",
       "      <td>0.0</td>\n",
       "      <td>0.0</td>\n",
       "      <td>0.0</td>\n",
       "      <td>0.0</td>\n",
       "      <td>0.0</td>\n",
       "      <td>0.0</td>\n",
       "      <td>1996-09-12T00:00:00</td>\n",
       "      <td>CN5Y641E0005</td>\n",
       "      <td>exists</td>\n",
       "      <td>POLYGON Z ((81.16366 35.75648 0.00000, 81.1637...</td>\n",
       "    </tr>\n",
       "    <tr>\n",
       "      <th>200718</th>\n",
       "      <td>253539.0</td>\n",
       "      <td>G079641E36027N</td>\n",
       "      <td>2014-06-15T00:00:00</td>\n",
       "      <td>0.036378</td>\n",
       "      <td>0.036391</td>\n",
       "      <td>0.0</td>\n",
       "      <td>0.0</td>\n",
       "      <td>0.0</td>\n",
       "      <td>5641.0</td>\n",
       "      <td>5752.0</td>\n",
       "      <td>5823.0</td>\n",
       "      <td>2009-09-07T00:00:00</td>\n",
       "      <td>CN5Y641K0280</td>\n",
       "      <td>exists</td>\n",
       "      <td>POLYGON Z ((79.63911 36.02617 0.00000, 79.6391...</td>\n",
       "    </tr>\n",
       "  </tbody>\n",
       "</table>\n",
       "</div>"
      ],
      "text/plain": [
       "        anlys_id         glac_id           anlys_time       area    db_area  \\\n",
       "564072  715697.0  G272254E81788N  2021-08-01T00:00:00  13.111200  13.178300   \n",
       "402885  638342.0  G091054E47736N  2018-07-01T00:00:00   0.000000   0.068239   \n",
       "382344  522870.0  G018607E78547N  2017-10-01T00:00:00   0.000000  36.640700   \n",
       "422908  609777.0  G081162E35762N  2018-07-01T00:00:00   0.000000   0.832443   \n",
       "200718  253539.0  G079641E36027N  2014-06-15T00:00:00   0.036378   0.036391   \n",
       "\n",
       "        width  length  primeclass  min_elev  mean_elev  max_elev  \\\n",
       "564072    0.0     0.0         0.0     279.0      611.0     896.0   \n",
       "402885    0.0     0.0         0.0       0.0        0.0       0.0   \n",
       "382344    0.0     0.0         0.0       0.0        0.0       0.0   \n",
       "422908    0.0     0.0         0.0       0.0        0.0       0.0   \n",
       "200718    0.0     0.0         0.0    5641.0     5752.0    5823.0   \n",
       "\n",
       "                   src_date      glac_name glac_stat  \\\n",
       "564072  1999-07-24T00:00:00           None    exists   \n",
       "402885  2002-07-10T00:00:00           None    exists   \n",
       "382344  1990-07-31T00:00:00  Johansenbreen    exists   \n",
       "422908  1996-09-12T00:00:00   CN5Y641E0005    exists   \n",
       "200718  2009-09-07T00:00:00   CN5Y641K0280    exists   \n",
       "\n",
       "                                                 geometry  \n",
       "564072  POLYGON Z ((-87.62692 81.80468 0.00000, -87.62...  \n",
       "402885  POLYGON Z ((91.05266 47.73642 0.00000, 91.0526...  \n",
       "382344  POLYGON Z ((18.87952 78.52250 0.00000, 18.8334...  \n",
       "422908  POLYGON Z ((81.16366 35.75648 0.00000, 81.1637...  \n",
       "200718  POLYGON Z ((79.63911 36.02617 0.00000, 79.6391...  "
      ]
     },
     "execution_count": 16,
     "metadata": {},
     "output_type": "execute_result"
    }
   ],
   "source": [
    "polygons2.sample(5)"
   ]
  },
  {
   "cell_type": "code",
   "execution_count": 17,
   "id": "8807ff40-73f3-4fc1-88fe-f5f824bfb9d0",
   "metadata": {},
   "outputs": [
    {
     "ename": "OSError",
     "evalue": "[Errno 28] No space left on device",
     "output_type": "error",
     "traceback": [
      "\u001b[0;31m---------------------------------------------------------------------------\u001b[0m",
      "\u001b[0;31mOSError\u001b[0m                                   Traceback (most recent call last)",
      "Cell \u001b[0;32mIn [17], line 1\u001b[0m\n\u001b[0;32m----> 1\u001b[0m \u001b[43mpolygons2\u001b[49m\u001b[38;5;241;43m.\u001b[39;49m\u001b[43mto_csv\u001b[49m\u001b[43m(\u001b[49m\u001b[38;5;124;43m\"\u001b[39;49m\u001b[38;5;124;43mGLIMS_20230716/polygons2.csv\u001b[39;49m\u001b[38;5;124;43m\"\u001b[39;49m\u001b[43m,\u001b[49m\u001b[43m \u001b[49m\u001b[43mindex\u001b[49m\u001b[38;5;241;43m=\u001b[39;49m\u001b[38;5;28;43;01mFalse\u001b[39;49;00m\u001b[43m)\u001b[49m\n",
      "File \u001b[0;32m/Library/Frameworks/Python.framework/Versions/3.10/lib/python3.10/site-packages/pandas/util/_decorators.py:211\u001b[0m, in \u001b[0;36mdeprecate_kwarg.<locals>._deprecate_kwarg.<locals>.wrapper\u001b[0;34m(*args, **kwargs)\u001b[0m\n\u001b[1;32m    209\u001b[0m     \u001b[38;5;28;01melse\u001b[39;00m:\n\u001b[1;32m    210\u001b[0m         kwargs[new_arg_name] \u001b[38;5;241m=\u001b[39m new_arg_value\n\u001b[0;32m--> 211\u001b[0m \u001b[38;5;28;01mreturn\u001b[39;00m \u001b[43mfunc\u001b[49m\u001b[43m(\u001b[49m\u001b[38;5;241;43m*\u001b[39;49m\u001b[43margs\u001b[49m\u001b[43m,\u001b[49m\u001b[43m \u001b[49m\u001b[38;5;241;43m*\u001b[39;49m\u001b[38;5;241;43m*\u001b[39;49m\u001b[43mkwargs\u001b[49m\u001b[43m)\u001b[49m\n",
      "File \u001b[0;32m/Library/Frameworks/Python.framework/Versions/3.10/lib/python3.10/site-packages/pandas/core/generic.py:3721\u001b[0m, in \u001b[0;36mNDFrame.to_csv\u001b[0;34m(self, path_or_buf, sep, na_rep, float_format, columns, header, index, index_label, mode, encoding, compression, quoting, quotechar, lineterminator, chunksize, date_format, doublequote, escapechar, decimal, errors, storage_options)\u001b[0m\n\u001b[1;32m   3710\u001b[0m df \u001b[38;5;241m=\u001b[39m \u001b[38;5;28mself\u001b[39m \u001b[38;5;28;01mif\u001b[39;00m \u001b[38;5;28misinstance\u001b[39m(\u001b[38;5;28mself\u001b[39m, ABCDataFrame) \u001b[38;5;28;01melse\u001b[39;00m \u001b[38;5;28mself\u001b[39m\u001b[38;5;241m.\u001b[39mto_frame()\n\u001b[1;32m   3712\u001b[0m formatter \u001b[38;5;241m=\u001b[39m DataFrameFormatter(\n\u001b[1;32m   3713\u001b[0m     frame\u001b[38;5;241m=\u001b[39mdf,\n\u001b[1;32m   3714\u001b[0m     header\u001b[38;5;241m=\u001b[39mheader,\n\u001b[0;32m   (...)\u001b[0m\n\u001b[1;32m   3718\u001b[0m     decimal\u001b[38;5;241m=\u001b[39mdecimal,\n\u001b[1;32m   3719\u001b[0m )\n\u001b[0;32m-> 3721\u001b[0m \u001b[38;5;28;01mreturn\u001b[39;00m \u001b[43mDataFrameRenderer\u001b[49m\u001b[43m(\u001b[49m\u001b[43mformatter\u001b[49m\u001b[43m)\u001b[49m\u001b[38;5;241;43m.\u001b[39;49m\u001b[43mto_csv\u001b[49m\u001b[43m(\u001b[49m\n\u001b[1;32m   3722\u001b[0m \u001b[43m    \u001b[49m\u001b[43mpath_or_buf\u001b[49m\u001b[43m,\u001b[49m\n\u001b[1;32m   3723\u001b[0m \u001b[43m    \u001b[49m\u001b[43mlineterminator\u001b[49m\u001b[38;5;241;43m=\u001b[39;49m\u001b[43mlineterminator\u001b[49m\u001b[43m,\u001b[49m\n\u001b[1;32m   3724\u001b[0m \u001b[43m    \u001b[49m\u001b[43msep\u001b[49m\u001b[38;5;241;43m=\u001b[39;49m\u001b[43msep\u001b[49m\u001b[43m,\u001b[49m\n\u001b[1;32m   3725\u001b[0m \u001b[43m    \u001b[49m\u001b[43mencoding\u001b[49m\u001b[38;5;241;43m=\u001b[39;49m\u001b[43mencoding\u001b[49m\u001b[43m,\u001b[49m\n\u001b[1;32m   3726\u001b[0m \u001b[43m    \u001b[49m\u001b[43merrors\u001b[49m\u001b[38;5;241;43m=\u001b[39;49m\u001b[43merrors\u001b[49m\u001b[43m,\u001b[49m\n\u001b[1;32m   3727\u001b[0m \u001b[43m    \u001b[49m\u001b[43mcompression\u001b[49m\u001b[38;5;241;43m=\u001b[39;49m\u001b[43mcompression\u001b[49m\u001b[43m,\u001b[49m\n\u001b[1;32m   3728\u001b[0m \u001b[43m    \u001b[49m\u001b[43mquoting\u001b[49m\u001b[38;5;241;43m=\u001b[39;49m\u001b[43mquoting\u001b[49m\u001b[43m,\u001b[49m\n\u001b[1;32m   3729\u001b[0m \u001b[43m    \u001b[49m\u001b[43mcolumns\u001b[49m\u001b[38;5;241;43m=\u001b[39;49m\u001b[43mcolumns\u001b[49m\u001b[43m,\u001b[49m\n\u001b[1;32m   3730\u001b[0m \u001b[43m    \u001b[49m\u001b[43mindex_label\u001b[49m\u001b[38;5;241;43m=\u001b[39;49m\u001b[43mindex_label\u001b[49m\u001b[43m,\u001b[49m\n\u001b[1;32m   3731\u001b[0m \u001b[43m    \u001b[49m\u001b[43mmode\u001b[49m\u001b[38;5;241;43m=\u001b[39;49m\u001b[43mmode\u001b[49m\u001b[43m,\u001b[49m\n\u001b[1;32m   3732\u001b[0m \u001b[43m    \u001b[49m\u001b[43mchunksize\u001b[49m\u001b[38;5;241;43m=\u001b[39;49m\u001b[43mchunksize\u001b[49m\u001b[43m,\u001b[49m\n\u001b[1;32m   3733\u001b[0m \u001b[43m    \u001b[49m\u001b[43mquotechar\u001b[49m\u001b[38;5;241;43m=\u001b[39;49m\u001b[43mquotechar\u001b[49m\u001b[43m,\u001b[49m\n\u001b[1;32m   3734\u001b[0m \u001b[43m    \u001b[49m\u001b[43mdate_format\u001b[49m\u001b[38;5;241;43m=\u001b[39;49m\u001b[43mdate_format\u001b[49m\u001b[43m,\u001b[49m\n\u001b[1;32m   3735\u001b[0m \u001b[43m    \u001b[49m\u001b[43mdoublequote\u001b[49m\u001b[38;5;241;43m=\u001b[39;49m\u001b[43mdoublequote\u001b[49m\u001b[43m,\u001b[49m\n\u001b[1;32m   3736\u001b[0m \u001b[43m    \u001b[49m\u001b[43mescapechar\u001b[49m\u001b[38;5;241;43m=\u001b[39;49m\u001b[43mescapechar\u001b[49m\u001b[43m,\u001b[49m\n\u001b[1;32m   3737\u001b[0m \u001b[43m    \u001b[49m\u001b[43mstorage_options\u001b[49m\u001b[38;5;241;43m=\u001b[39;49m\u001b[43mstorage_options\u001b[49m\u001b[43m,\u001b[49m\n\u001b[1;32m   3738\u001b[0m \u001b[43m\u001b[49m\u001b[43m)\u001b[49m\n",
      "File \u001b[0;32m/Library/Frameworks/Python.framework/Versions/3.10/lib/python3.10/site-packages/pandas/util/_decorators.py:211\u001b[0m, in \u001b[0;36mdeprecate_kwarg.<locals>._deprecate_kwarg.<locals>.wrapper\u001b[0;34m(*args, **kwargs)\u001b[0m\n\u001b[1;32m    209\u001b[0m     \u001b[38;5;28;01melse\u001b[39;00m:\n\u001b[1;32m    210\u001b[0m         kwargs[new_arg_name] \u001b[38;5;241m=\u001b[39m new_arg_value\n\u001b[0;32m--> 211\u001b[0m \u001b[38;5;28;01mreturn\u001b[39;00m \u001b[43mfunc\u001b[49m\u001b[43m(\u001b[49m\u001b[38;5;241;43m*\u001b[39;49m\u001b[43margs\u001b[49m\u001b[43m,\u001b[49m\u001b[43m \u001b[49m\u001b[38;5;241;43m*\u001b[39;49m\u001b[38;5;241;43m*\u001b[39;49m\u001b[43mkwargs\u001b[49m\u001b[43m)\u001b[49m\n",
      "File \u001b[0;32m/Library/Frameworks/Python.framework/Versions/3.10/lib/python3.10/site-packages/pandas/io/formats/format.py:1189\u001b[0m, in \u001b[0;36mDataFrameRenderer.to_csv\u001b[0;34m(self, path_or_buf, encoding, sep, columns, index_label, mode, compression, quoting, quotechar, lineterminator, chunksize, date_format, doublequote, escapechar, errors, storage_options)\u001b[0m\n\u001b[1;32m   1168\u001b[0m     created_buffer \u001b[38;5;241m=\u001b[39m \u001b[38;5;28;01mFalse\u001b[39;00m\n\u001b[1;32m   1170\u001b[0m csv_formatter \u001b[38;5;241m=\u001b[39m CSVFormatter(\n\u001b[1;32m   1171\u001b[0m     path_or_buf\u001b[38;5;241m=\u001b[39mpath_or_buf,\n\u001b[1;32m   1172\u001b[0m     lineterminator\u001b[38;5;241m=\u001b[39mlineterminator,\n\u001b[0;32m   (...)\u001b[0m\n\u001b[1;32m   1187\u001b[0m     formatter\u001b[38;5;241m=\u001b[39m\u001b[38;5;28mself\u001b[39m\u001b[38;5;241m.\u001b[39mfmt,\n\u001b[1;32m   1188\u001b[0m )\n\u001b[0;32m-> 1189\u001b[0m \u001b[43mcsv_formatter\u001b[49m\u001b[38;5;241;43m.\u001b[39;49m\u001b[43msave\u001b[49m\u001b[43m(\u001b[49m\u001b[43m)\u001b[49m\n\u001b[1;32m   1191\u001b[0m \u001b[38;5;28;01mif\u001b[39;00m created_buffer:\n\u001b[1;32m   1192\u001b[0m     \u001b[38;5;28;01massert\u001b[39;00m \u001b[38;5;28misinstance\u001b[39m(path_or_buf, StringIO)\n",
      "File \u001b[0;32m/Library/Frameworks/Python.framework/Versions/3.10/lib/python3.10/site-packages/pandas/io/formats/csvs.py:261\u001b[0m, in \u001b[0;36mCSVFormatter.save\u001b[0;34m(self)\u001b[0m\n\u001b[1;32m    241\u001b[0m \u001b[38;5;28;01mwith\u001b[39;00m get_handle(\n\u001b[1;32m    242\u001b[0m     \u001b[38;5;28mself\u001b[39m\u001b[38;5;241m.\u001b[39mfilepath_or_buffer,\n\u001b[1;32m    243\u001b[0m     \u001b[38;5;28mself\u001b[39m\u001b[38;5;241m.\u001b[39mmode,\n\u001b[0;32m   (...)\u001b[0m\n\u001b[1;32m    249\u001b[0m \n\u001b[1;32m    250\u001b[0m     \u001b[38;5;66;03m# Note: self.encoding is irrelevant here\u001b[39;00m\n\u001b[1;32m    251\u001b[0m     \u001b[38;5;28mself\u001b[39m\u001b[38;5;241m.\u001b[39mwriter \u001b[38;5;241m=\u001b[39m csvlib\u001b[38;5;241m.\u001b[39mwriter(\n\u001b[1;32m    252\u001b[0m         handles\u001b[38;5;241m.\u001b[39mhandle,\n\u001b[1;32m    253\u001b[0m         lineterminator\u001b[38;5;241m=\u001b[39m\u001b[38;5;28mself\u001b[39m\u001b[38;5;241m.\u001b[39mlineterminator,\n\u001b[0;32m   (...)\u001b[0m\n\u001b[1;32m    258\u001b[0m         quotechar\u001b[38;5;241m=\u001b[39m\u001b[38;5;28mself\u001b[39m\u001b[38;5;241m.\u001b[39mquotechar,\n\u001b[1;32m    259\u001b[0m     )\n\u001b[0;32m--> 261\u001b[0m     \u001b[38;5;28;43mself\u001b[39;49m\u001b[38;5;241;43m.\u001b[39;49m\u001b[43m_save\u001b[49m\u001b[43m(\u001b[49m\u001b[43m)\u001b[49m\n",
      "File \u001b[0;32m/Library/Frameworks/Python.framework/Versions/3.10/lib/python3.10/site-packages/pandas/io/formats/csvs.py:266\u001b[0m, in \u001b[0;36mCSVFormatter._save\u001b[0;34m(self)\u001b[0m\n\u001b[1;32m    264\u001b[0m \u001b[38;5;28;01mif\u001b[39;00m \u001b[38;5;28mself\u001b[39m\u001b[38;5;241m.\u001b[39m_need_to_save_header:\n\u001b[1;32m    265\u001b[0m     \u001b[38;5;28mself\u001b[39m\u001b[38;5;241m.\u001b[39m_save_header()\n\u001b[0;32m--> 266\u001b[0m \u001b[38;5;28;43mself\u001b[39;49m\u001b[38;5;241;43m.\u001b[39;49m\u001b[43m_save_body\u001b[49m\u001b[43m(\u001b[49m\u001b[43m)\u001b[49m\n",
      "File \u001b[0;32m/Library/Frameworks/Python.framework/Versions/3.10/lib/python3.10/site-packages/pandas/io/formats/csvs.py:304\u001b[0m, in \u001b[0;36mCSVFormatter._save_body\u001b[0;34m(self)\u001b[0m\n\u001b[1;32m    302\u001b[0m \u001b[38;5;28;01mif\u001b[39;00m start_i \u001b[38;5;241m>\u001b[39m\u001b[38;5;241m=\u001b[39m end_i:\n\u001b[1;32m    303\u001b[0m     \u001b[38;5;28;01mbreak\u001b[39;00m\n\u001b[0;32m--> 304\u001b[0m \u001b[38;5;28;43mself\u001b[39;49m\u001b[38;5;241;43m.\u001b[39;49m\u001b[43m_save_chunk\u001b[49m\u001b[43m(\u001b[49m\u001b[43mstart_i\u001b[49m\u001b[43m,\u001b[49m\u001b[43m \u001b[49m\u001b[43mend_i\u001b[49m\u001b[43m)\u001b[49m\n",
      "File \u001b[0;32m/Library/Frameworks/Python.framework/Versions/3.10/lib/python3.10/site-packages/pandas/io/formats/csvs.py:315\u001b[0m, in \u001b[0;36mCSVFormatter._save_chunk\u001b[0;34m(self, start_i, end_i)\u001b[0m\n\u001b[1;32m    312\u001b[0m data \u001b[38;5;241m=\u001b[39m [res\u001b[38;5;241m.\u001b[39miget_values(i) \u001b[38;5;28;01mfor\u001b[39;00m i \u001b[38;5;129;01min\u001b[39;00m \u001b[38;5;28mrange\u001b[39m(\u001b[38;5;28mlen\u001b[39m(res\u001b[38;5;241m.\u001b[39mitems))]\n\u001b[1;32m    314\u001b[0m ix \u001b[38;5;241m=\u001b[39m \u001b[38;5;28mself\u001b[39m\u001b[38;5;241m.\u001b[39mdata_index[slicer]\u001b[38;5;241m.\u001b[39m_format_native_types(\u001b[38;5;241m*\u001b[39m\u001b[38;5;241m*\u001b[39m\u001b[38;5;28mself\u001b[39m\u001b[38;5;241m.\u001b[39m_number_format)\n\u001b[0;32m--> 315\u001b[0m \u001b[43mlibwriters\u001b[49m\u001b[38;5;241;43m.\u001b[39;49m\u001b[43mwrite_csv_rows\u001b[49m\u001b[43m(\u001b[49m\n\u001b[1;32m    316\u001b[0m \u001b[43m    \u001b[49m\u001b[43mdata\u001b[49m\u001b[43m,\u001b[49m\n\u001b[1;32m    317\u001b[0m \u001b[43m    \u001b[49m\u001b[43mix\u001b[49m\u001b[43m,\u001b[49m\n\u001b[1;32m    318\u001b[0m \u001b[43m    \u001b[49m\u001b[38;5;28;43mself\u001b[39;49m\u001b[38;5;241;43m.\u001b[39;49m\u001b[43mnlevels\u001b[49m\u001b[43m,\u001b[49m\n\u001b[1;32m    319\u001b[0m \u001b[43m    \u001b[49m\u001b[38;5;28;43mself\u001b[39;49m\u001b[38;5;241;43m.\u001b[39;49m\u001b[43mcols\u001b[49m\u001b[43m,\u001b[49m\n\u001b[1;32m    320\u001b[0m \u001b[43m    \u001b[49m\u001b[38;5;28;43mself\u001b[39;49m\u001b[38;5;241;43m.\u001b[39;49m\u001b[43mwriter\u001b[49m\u001b[43m,\u001b[49m\n\u001b[1;32m    321\u001b[0m \u001b[43m\u001b[49m\u001b[43m)\u001b[49m\n",
      "File \u001b[0;32m/Library/Frameworks/Python.framework/Versions/3.10/lib/python3.10/site-packages/pandas/_libs/writers.pyx:72\u001b[0m, in \u001b[0;36mpandas._libs.writers.write_csv_rows\u001b[0;34m()\u001b[0m\n",
      "\u001b[0;31mOSError\u001b[0m: [Errno 28] No space left on device"
     ]
    }
   ],
   "source": [
    "#polygons2.to_csv(\"GLIMS_20230716/polygons2.csv\", index=False)"
   ]
  }
 ],
 "metadata": {
  "kernelspec": {
   "display_name": "Python 3 (ipykernel)",
   "language": "python",
   "name": "python3"
  },
  "language_info": {
   "codemirror_mode": {
    "name": "ipython",
    "version": 3
   },
   "file_extension": ".py",
   "mimetype": "text/x-python",
   "name": "python",
   "nbconvert_exporter": "python",
   "pygments_lexer": "ipython3",
   "version": "3.10.7"
  }
 },
 "nbformat": 4,
 "nbformat_minor": 5
}
