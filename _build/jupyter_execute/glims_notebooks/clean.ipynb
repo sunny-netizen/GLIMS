{
 "cells": [
  {
   "cell_type": "markdown",
   "id": "fdbbde51-7dab-4c18-b0a0-38fcdd8b19c9",
   "metadata": {},
   "source": [
    "# Clean Data\n",
    "- Examine and modify datatypes - categorical, continuous, discrete.\n",
    "- Drop irrelevant columns and rows.\n",
    "- Detect patterns in nullish values."
   ]
  },
  {
   "cell_type": "code",
   "execution_count": 1,
   "id": "72b04a69-98cb-46d1-9407-5a89cb8597a0",
   "metadata": {},
   "outputs": [
    {
     "name": "stdout",
     "output_type": "stream",
     "text": [
      "Current Directory: /Users/yun/Documents/GLIMS/glims_notebooks\n"
     ]
    }
   ],
   "source": [
    "# Import libraries\n",
    "import os\n",
    "import numpy as np\n",
    "import pandas as pd\n",
    "import geopandas as gpd\n",
    "import matplotlib.pyplot as plt\n",
    "import seaborn as sns\n",
    "\n",
    "# Check working directory\n",
    "current_directory = os.getcwd()\n",
    "print(\"Current Directory:\", current_directory)\n",
    "\n",
    "# Ask pandas to display all columns\n",
    "pd.set_option('display.max_columns', None)"
   ]
  },
  {
   "cell_type": "code",
   "execution_count": 2,
   "id": "2182c875-c286-401f-8de7-62abac99d544",
   "metadata": {},
   "outputs": [],
   "source": [
    "# Load Esri shapefiles as geopandas dataframes\n",
    "polygons = gpd.read_file(\"GLIMS_20230716/glims_download_13173/glims_polygons.shp\")"
   ]
  },
  {
   "cell_type": "markdown",
   "id": "29858153-b437-4780-8e1d-366a6fc4f01d",
   "metadata": {},
   "source": [
    "## Drop Non-Glacier Columns\n",
    "\n",
    "Since the goal is to find glacier data stories, identify and drop variables related to glacier research (data submission, measurement uncertainties, etc.).\n",
    "\n",
    "Variable definitions in the data documentation: [User Guide](https://nsidc.org/sites/default/files/nsidc-0272-v001-userguide_1.pdf) and the [GLIMS Description of fields](http://www.glims.org/MapsAndDocs/downloaded_field_desc.html).\n"
   ]
  },
  {
   "cell_type": "code",
   "execution_count": 3,
   "id": "85d6697a-9fd0-4840-bf24-f27db7189a74",
   "metadata": {},
   "outputs": [
    {
     "data": {
      "text/plain": [
       "line_type       object\n",
       "anlys_id       float64\n",
       "glac_id         object\n",
       "anlys_time      object\n",
       "area           float64\n",
       "db_area        float64\n",
       "width          float64\n",
       "length         float64\n",
       "primeclass     float64\n",
       "min_elev       float64\n",
       "mean_elev      float64\n",
       "max_elev       float64\n",
       "src_date        object\n",
       "rec_status      object\n",
       "glac_name       object\n",
       "wgms_id         object\n",
       "local_id        object\n",
       "glac_stat       object\n",
       "subm_id        float64\n",
       "release_dt      object\n",
       "proc_desc       object\n",
       "rc_id          float64\n",
       "geog_area       object\n",
       "chief_affl      object\n",
       "loc_unc_x        int64\n",
       "loc_unc_y        int64\n",
       "glob_unc_x       int64\n",
       "glob_unc_y       int64\n",
       "submitters      object\n",
       "analysts        object\n",
       "geometry      geometry\n",
       "dtype: object"
      ]
     },
     "execution_count": 3,
     "metadata": {},
     "output_type": "execute_result"
    }
   ],
   "source": [
    "polygons.dtypes"
   ]
  },
  {
   "cell_type": "raw",
   "id": "a75f507e-65ca-4d2d-90c6-2e11fb74e8f1",
   "metadata": {},
   "source": [
    "Variables to Remove, based on data documentation:\n",
    "\n",
    "----------------------------keep\n",
    "line_type       object\n",
    "anlys_id       float64\n",
    "glac_id         object\n",
    "anlys_time      object\n",
    "area           float64\n",
    "db_area        float64\n",
    "width          float64\n",
    "length         float64\n",
    "primeclass     float64\n",
    "min_elev       float64\n",
    "mean_elev      float64\n",
    "max_elev       float64\n",
    "src_date        object\n",
    "\n",
    "rec_status      object-----remove\n",
    "glac_name       object-----keep\n",
    "wgms_id         object-----remove\n",
    "local_id        object-----remove\n",
    "glac_stat       object-----keep\n",
    "\n",
    "---------------------------remove\n",
    "subm_id        float64\n",
    "release_dt      object\n",
    "proc_desc       object\n",
    "rc_id          float64\n",
    "geog_area       object\n",
    "chief_affl      object\n",
    "loc_unc_x        int64\n",
    "loc_unc_y        int64\n",
    "glob_unc_x       int64\n",
    "glob_unc_y       int64\n",
    "submitters      object\n",
    "analysts        object\n",
    "\n",
    "geometry      geometry------keep"
   ]
  },
  {
   "cell_type": "markdown",
   "id": "6c102646-fb75-42b5-9c9d-1f370ff2cbf1",
   "metadata": {},
   "source": [
    "Before dropping them, check these variables starting from the fewest unique values, which tend to be categorical. \n",
    "Plan treatment: modify datatype, subset, eliminate, etc.\n",
    "\n",
    "Similar numbers of unique values reveal possible correlations for later consideration.\n",
    "- loc_unc_y and loc_unc_x\n",
    "- glob_unc_y and glob_unc_x\n",
    "- glac_id and db_area\n",
    "- geometry and anlys_id"
   ]
  },
  {
   "cell_type": "code",
   "execution_count": 4,
   "id": "16c65237-049a-4271-bc7b-9b78436015bc",
   "metadata": {},
   "outputs": [
    {
     "data": {
      "text/plain": [
       "rec_status         1\n",
       "glac_stat          3\n",
       "line_type          6\n",
       "primeclass        10\n",
       "loc_unc_y         14\n",
       "loc_unc_x         14\n",
       "glob_unc_y        17\n",
       "glob_unc_x        18\n",
       "chief_affl        46\n",
       "geog_area         49\n",
       "rc_id             53\n",
       "submitters        67\n",
       "analysts         109\n",
       "proc_desc        165\n",
       "release_dt       278\n",
       "width            293\n",
       "anlys_time       456\n",
       "subm_id          624\n",
       "src_date        1178\n",
       "length          6122\n",
       "min_elev        6644\n",
       "mean_elev       6691\n",
       "max_elev        7409\n",
       "wgms_id        17239\n",
       "glac_name      35112\n",
       "local_id       69166\n",
       "area          125554\n",
       "glac_id       328115\n",
       "db_area       353842\n",
       "geometry      530099\n",
       "anlys_id      557884\n",
       "dtype: int64"
      ]
     },
     "execution_count": 4,
     "metadata": {},
     "output_type": "execute_result"
    }
   ],
   "source": [
    "# Number of unique values in each field\n",
    "polygons.nunique().sort_values(ascending=True)"
   ]
  },
  {
   "cell_type": "code",
   "execution_count": 5,
   "id": "32484011-139a-4a25-930a-e5f6426ba746",
   "metadata": {},
   "outputs": [
    {
     "data": {
      "text/plain": [
       "okay    565887\n",
       "Name: rec_status, dtype: int64"
      ]
     },
     "execution_count": 5,
     "metadata": {},
     "output_type": "execute_result"
    }
   ],
   "source": [
    "# REMOVE\n",
    "# entries = \"okay\", as expected for downloaded data. \n",
    "polygons.rec_status.value_counts()"
   ]
  },
  {
   "cell_type": "code",
   "execution_count": 6,
   "id": "c2b1a20b-406e-470d-97d8-7aa19926b0c9",
   "metadata": {},
   "outputs": [
    {
     "data": {
      "text/plain": [
       "exists    560556\n",
       "None        4993\n",
       "gone         338\n",
       "Name: glac_stat, dtype: int64"
      ]
     },
     "execution_count": 6,
     "metadata": {},
     "output_type": "execute_result"
    }
   ],
   "source": [
    "# KEEP\n",
    "# Most glaciers have status of \"exists\", a few are \"gone\". \n",
    "# Documentation does not mention \"None\" value. May be missing data. \n",
    "polygons.glac_stat.value_counts()"
   ]
  },
  {
   "cell_type": "code",
   "execution_count": 7,
   "id": "d4c88873-c655-439d-8456-09c4877f634a",
   "metadata": {},
   "outputs": [
    {
     "data": {
      "text/plain": [
       "glac_bound     564112\n",
       "debris_cov       1005\n",
       "intrnl_rock       452\n",
       "pro_lake          291\n",
       "supra_lake         18\n",
       "basin_bound         9\n",
       "Name: line_type, dtype: int64"
      ]
     },
     "execution_count": 7,
     "metadata": {},
     "output_type": "execute_result"
    }
   ],
   "source": [
    "# KEEP\n",
    "# Most polygons are glacier boundaries; others can be removed.\n",
    "polygons.line_type.value_counts()"
   ]
  },
  {
   "cell_type": "code",
   "execution_count": 8,
   "id": "1d9bff4c-2a7f-4f3a-9828-5ffff0a5865d",
   "metadata": {},
   "outputs": [
    {
     "data": {
      "text/plain": [
       "0.0     538864\n",
       "9.0       8151\n",
       "7.0       7579\n",
       "6.0       6850\n",
       "5.0       1912\n",
       "4.0       1581\n",
       "3.0        598\n",
       "10.0       205\n",
       "2.0        146\n",
       "8.0          1\n",
       "Name: primeclass, dtype: int64"
      ]
     },
     "execution_count": 8,
     "metadata": {},
     "output_type": "execute_result"
    }
   ],
   "source": [
    "# KEEP\n",
    "# Most primary classifications are \"Other\"\n",
    "# https://wgms.ch/data_submission/\n",
    "# https://wgms.ch/downloads/FoG_Submission_instructions.pdf\n",
    "polygons.primeclass.value_counts()"
   ]
  },
  {
   "cell_type": "code",
   "execution_count": 9,
   "id": "6823c227-b20c-4d45-bd86-17f5fb799243",
   "metadata": {},
   "outputs": [
    {
     "data": {
      "image/png": "[encoded data removed]",
      "text/plain": [
       "<Figure size 640x480 with 4 Axes>"
      ]
     },
     "metadata": {},
     "output_type": "display_data"
    }
   ],
   "source": [
    "# REMOVE\n",
    "# Positional uncertainty of vertices/polygon\n",
    "# Focus on glacier story, not data quality story\n",
    "polygons[['loc_unc_y','loc_unc_x','glob_unc_y','glob_unc_x']].hist();"
   ]
  },
  {
   "cell_type": "code",
   "execution_count": 10,
   "id": "26872ac0-30e9-4575-aa97-0d381795017a",
   "metadata": {},
   "outputs": [
    {
     "data": {
      "text/plain": [
       "{1,\n",
       " 15,\n",
       " 47,\n",
       " 51,\n",
       " 72,\n",
       " 81,\n",
       " 93,\n",
       " 100,\n",
       " 101,\n",
       " 111,\n",
       " 156,\n",
       " 259,\n",
       " 265,\n",
       " 270,\n",
       " 271,\n",
       " 374,\n",
       " 410,\n",
       " 425,\n",
       " 484,\n",
       " 660,\n",
       " 903,\n",
       " 1367,\n",
       " 1497,\n",
       " 1896,\n",
       " 2074,\n",
       " 2605,\n",
       " 2652,\n",
       " 2795,\n",
       " 3519,\n",
       " 3581,\n",
       " 3948,\n",
       " 4972,\n",
       " 5289,\n",
       " 5390,\n",
       " 6577,\n",
       " 17555,\n",
       " 19195,\n",
       " 43383,\n",
       " 48569,\n",
       " 133414}"
      ]
     },
     "execution_count": 10,
     "metadata": {},
     "output_type": "execute_result"
    }
   ],
   "source": [
    "# REMOVE\n",
    "# Associated with regional centers\n",
    "# similarities in value counts more than coincidental\n",
    "set(polygons.chief_affl.value_counts()) & set(polygons.rc_id.value_counts())"
   ]
  },
  {
   "cell_type": "code",
   "execution_count": 11,
   "id": "0fd9d2a3-997d-4d2c-8a5f-d41fd8b01a64",
   "metadata": {},
   "outputs": [
    {
     "data": {
      "text/plain": [
       "Randolph Glacier Inventory; Umbrella RC for merging the RGI into GLIMS    173527\n",
       "Asia                                                                      133414\n",
       "China                                                                      48569\n",
       "Various (GlobGlacier)                                                      45079\n",
       "Himalaya (India, Nepal, Bhutan)                                            43383\n",
       "Swiss Alps                                                                 19979\n",
       "Argentina                                                                  19195\n",
       "Northern Cordillera                                                        17555\n",
       "Caucausus Region                                                            6577\n",
       "Siberian Mountains                                                          6094\n",
       "Antarctic Peninsula                                                         5577\n",
       "Austrian Alps                                                               5390\n",
       "Conterminous USA                                                            5289\n",
       "Canada                                                                      4972\n",
       "Alaska                                                                      3793\n",
       "Norway                                                                      3519\n",
       "Khumbu Area                                                                 3497\n",
       "French Alps                                                                 2795\n",
       "Svalbard, Jan Mayen, and Bouvet                                             2652\n",
       "Svalbard                                                                    2605\n",
       "Mongolia                                                                    2074\n",
       "Cordillera Blanca, Peru                                                     1497\n",
       "Russian Glaciers (exact boundaries of RC to be defined)                     1367\n",
       "Olympic Peninsula                                                            995\n",
       "Italy                                                                        903\n",
       "Kamchatka Peninsula                                                          848\n",
       "Central Asia                                                                 660\n",
       "Iran                                                                         484\n",
       "New Zealand                                                                  425\n",
       "Various (NSIDC)                                                              419\n",
       "Southwestern Asia (Pakistan + Afghanistan)                                   410\n",
       "Kerguelen Island                                                             374\n",
       "Sweden                                                                       271\n",
       "Iceland                                                                      270\n",
       "Prince William Sound                                                         265\n",
       "East Central Greenland                                                       259\n",
       "Chilean Norte Chico (25 to 32 degrees south latitude)                        156\n",
       "Chilean glaciers, between -18 and -56 degrees latitude                       111\n",
       "Irian Jaya                                                                   108\n",
       "Italian Alps                                                                 101\n",
       "Russian and former Soviet Union glaciers                                      91\n",
       "Chile                                                                         81\n",
       "Northern Siberia                                                              72\n",
       "Northeast Greenland                                                           51\n",
       "Turkey                                                                        51\n",
       "Pyrenees                                                                      47\n",
       "Coropuna, Peru                                                                19\n",
       "Bolivia                                                                       16\n",
       "West Antarctica                                                                1\n",
       "Name: geog_area, dtype: int64"
      ]
     },
     "execution_count": 11,
     "metadata": {},
     "output_type": "execute_result"
    }
   ],
   "source": [
    "# REMOVE\n",
    "# Also associated with regional centers\n",
    "# Too much Umbrella and Various data \n",
    "polygons.geog_area.value_counts()"
   ]
  },
  {
   "cell_type": "code",
   "execution_count": 12,
   "id": "330c58d8-65eb-4311-983f-2f169724ecf7",
   "metadata": {},
   "outputs": [
    {
     "data": {
      "text/plain": [
       "0.34126777960971005"
      ]
     },
     "execution_count": 12,
     "metadata": {},
     "output_type": "execute_result"
    }
   ],
   "source": [
    "# REMOVE\n",
    "# names of researchers, 34% are both submitters and analysts\n",
    "sum(polygons.submitters == polygons.analysts)/polygons.shape[0]"
   ]
  },
  {
   "cell_type": "code",
   "execution_count": 13,
   "id": "ed4d07d0-e096-424d-ab8f-bfe8c3f654a6",
   "metadata": {},
   "outputs": [
    {
     "data": {
      "text/plain": [
       "133761    Object-based semi-automated glacier classifica...\n",
       "260146    Semi-automated glacier classification.; From R...\n",
       "334677    ; The data on glacier location and change was ...\n",
       "16010     Semi-automated glacier classification.; From R...\n",
       "430663    Semi-automated glacier classification; Semi-au...\n",
       "Name: proc_desc, dtype: object"
      ]
     },
     "execution_count": 13,
     "metadata": {},
     "output_type": "execute_result"
    }
   ],
   "source": [
    "# REMOVE\n",
    "# long text descriptions\n",
    "polygons.proc_desc.sample(5)"
   ]
  },
  {
   "cell_type": "code",
   "execution_count": 14,
   "id": "ed6797b7-dd1b-4437-bff4-47120caeb8d0",
   "metadata": {},
   "outputs": [
    {
     "data": {
      "image/png": "[encoded data removed]",
      "text/plain": [
       "<Figure size 640x480 with 4 Axes>"
      ]
     },
     "metadata": {},
     "output_type": "display_data"
    }
   ],
   "source": [
    "# KEEP 'anlys_time', 'src_date'\n",
    "# REMOVE \"release_dt\". \n",
    "# temporal, no documentation on \"release_dt\". \n",
    "# Number of release_dt < anlys_time < src_date\n",
    "polygons[['release_dt', 'anlys_time', 'src_date']] = polygons[['release_dt', 'anlys_time', 'src_date']].apply(pd.to_datetime)\n",
    "polygons[['release_dt', 'anlys_time', 'src_date']].hist();"
   ]
  },
  {
   "cell_type": "raw",
   "id": "7971398d-a29c-4dee-bf37-bffd36c93d9d",
   "metadata": {},
   "source": [
    "KEEP THE REST\n",
    "\n",
    "The rest are continuous data from glacier measurements / analyses\n",
    "width            293\n",
    "length          6122\n",
    "min_elev        6644\n",
    "mean_elev       6691\n",
    "max_elev        7409\n",
    "area          125554\n",
    "db_area       353842\n",
    "\n",
    "And types of IDs\n",
    "subm_id          624 -----\n",
    "wgms_id        17239 -----\n",
    "glac_name      35112\n",
    "local_id       69166\n",
    "glac_id       328115\n",
    "anlys_id      557884\n",
    "\n",
    "geometry      530099"
   ]
  },
  {
   "cell_type": "code",
   "execution_count": 15,
   "id": "a5821f72-0e29-4d18-9e9f-c59e9a8f8ff2",
   "metadata": {},
   "outputs": [
    {
     "data": {
      "text/plain": [
       "698.0    133414\n",
       "637.0     54397\n",
       "583.0     42377\n",
       "638.0     27861\n",
       "624.0     27017\n",
       "          ...  \n",
       "309.0         1\n",
       "173.0         1\n",
       "162.0         1\n",
       "179.0         1\n",
       "722.0         1\n",
       "Name: subm_id, Length: 624, dtype: int64"
      ]
     },
     "execution_count": 15,
     "metadata": {},
     "output_type": "execute_result"
    }
   ],
   "source": [
    "# REMOVE\n",
    "# related to data provider\n",
    "polygons.subm_id.value_counts()"
   ]
  },
  {
   "cell_type": "code",
   "execution_count": 16,
   "id": "4bc128d0-81f1-4889-a241-16ae0d02f5f2",
   "metadata": {},
   "outputs": [
    {
     "data": {
      "text/plain": [
       "(515127, 367393, 435161)"
      ]
     },
     "execution_count": 16,
     "metadata": {},
     "output_type": "execute_result"
    }
   ],
   "source": [
    "# KEEP glac names for fun\n",
    "# REMOVE wgms and local\n",
    "# Lots of \"None\"\n",
    "polygons.wgms_id.value_counts(normalize=True) # 91% \"None\"\n",
    "polygons.local_id.value_counts(normalize=True) # 65% \"None\"\n",
    "polygons.glac_name.value_counts(normalize=True) # 76% \"None\"\n",
    "sum(polygons.wgms_id=='None'), sum(polygons.local_id=='None'), sum(polygons.glac_name=='None')"
   ]
  },
  {
   "cell_type": "code",
   "execution_count": 17,
   "id": "9abf96d2-2a25-4bd5-b5a9-025379fe4afd",
   "metadata": {},
   "outputs": [],
   "source": [
    "# Remove non-glacial columns\n",
    "polygons1 = polygons.drop(labels=[\n",
    "    'rec_status', 'wgms_id', 'local_id', \n",
    "    'subm_id', 'release_dt', 'proc_desc', \n",
    "    'rc_id', 'geog_area', 'chief_affl', \n",
    "    'loc_unc_x', 'loc_unc_y', 'glob_unc_x', 'glob_unc_y',\n",
    "    'submitters', 'analysts'\n",
    "], axis=1)"
   ]
  },
  {
   "cell_type": "markdown",
   "id": "2ee281cd-23d1-4325-8100-4b3e07bb9c88",
   "metadata": {},
   "source": [
    "## Remove Non-Glacier Rows\n",
    "Remove polygon features representing non-glacier boundaries."
   ]
  },
  {
   "cell_type": "code",
   "execution_count": 18,
   "id": "f2539372-9061-44f5-ba3f-cbdce2e29451",
   "metadata": {},
   "outputs": [
    {
     "data": {
      "text/plain": [
       "glac_bound     564112\n",
       "debris_cov       1005\n",
       "intrnl_rock       452\n",
       "pro_lake          291\n",
       "supra_lake         18\n",
       "basin_bound         9\n",
       "Name: line_type, dtype: int64"
      ]
     },
     "execution_count": 18,
     "metadata": {},
     "output_type": "execute_result"
    }
   ],
   "source": [
    "# Most entities are glacier boundaries.\n",
    "polygons1.line_type.value_counts()"
   ]
  },
  {
   "cell_type": "code",
   "execution_count": 19,
   "id": "359bebfe-ff48-4f7f-b968-e59e832b4f1b",
   "metadata": {},
   "outputs": [
    {
     "name": "stderr",
     "output_type": "stream",
     "text": [
      "/var/folders/13/hf_sfnls1lq6kn8vsc92q40h0000gn/T/ipykernel_43717/1093122923.py:4: SettingWithCopyWarning: \n",
      "A value is trying to be set on a copy of a slice from a DataFrame\n",
      "\n",
      "See the caveats in the documentation: https://pandas.pydata.org/pandas-docs/stable/user_guide/indexing.html#returning-a-view-versus-a-copy\n",
      "  polygons2.drop('line_type', axis=1, inplace=True)\n"
     ]
    }
   ],
   "source": [
    "# Remove non-glacier entities.\n",
    "polygons2 = polygons1[polygons1.line_type==\"glac_bound\"]\n",
    "#polygons2.line_type.value_counts()\n",
    "polygons2.drop('line_type', axis=1, inplace=True)"
   ]
  },
  {
   "cell_type": "code",
   "execution_count": 20,
   "id": "f76dd34e-ffe4-43c8-981a-a45c92d0d845",
   "metadata": {},
   "outputs": [
    {
     "data": {
      "text/plain": [
       "anlys_id             float64\n",
       "glac_id               object\n",
       "anlys_time    datetime64[ns]\n",
       "area                 float64\n",
       "db_area              float64\n",
       "width                float64\n",
       "length               float64\n",
       "primeclass           float64\n",
       "min_elev             float64\n",
       "mean_elev            float64\n",
       "max_elev             float64\n",
       "src_date      datetime64[ns]\n",
       "glac_name             object\n",
       "glac_stat             object\n",
       "geometry            geometry\n",
       "dtype: object"
      ]
     },
     "execution_count": 20,
     "metadata": {},
     "output_type": "execute_result"
    }
   ],
   "source": [
    "polygons2.dtypes"
   ]
  },
  {
   "cell_type": "raw",
   "id": "c7e23888-f14a-418e-b908-5893ec7f5cc2",
   "metadata": {},
   "source": [
    "Group variables to plan exploration\n",
    "\n",
    "anlys_id       float64     categorical, id\n",
    "glac_id         object     categorical, id \n",
    "glac_name       object     categorical, id\n",
    "\n",
    "glac_stat       object     categorical\n",
    "primeclass     float64     categorical\n",
    "\n",
    "anlys_time      object     continuous, temporal\n",
    "src_date        object     continuous, temporal\n",
    "\n",
    "area           float64     continuous\n",
    "db_area        float64     continuous\n",
    "width          float64     continuous\n",
    "length         float64     continuous\n",
    "\n",
    "min_elev       float64     continuous\n",
    "mean_elev      float64     continuous\n",
    "max_elev       float64     continuous"
   ]
  },
  {
   "cell_type": "code",
   "execution_count": 21,
   "id": "13eba3c7-6fcc-4e48-80e3-5c3a36333400",
   "metadata": {},
   "outputs": [
    {
     "data": {
      "text/plain": [
       "anlys_id       0\n",
       "glac_id        0\n",
       "anlys_time     0\n",
       "area           0\n",
       "db_area        0\n",
       "width          0\n",
       "length         0\n",
       "primeclass     0\n",
       "min_elev       0\n",
       "mean_elev      0\n",
       "max_elev       0\n",
       "src_date       0\n",
       "glac_name     12\n",
       "glac_stat      0\n",
       "geometry       0\n",
       "dtype: int64"
      ]
     },
     "execution_count": 21,
     "metadata": {},
     "output_type": "execute_result"
    }
   ],
   "source": [
    "# NaNs only for glac_name, which is ornamental, can address later\n",
    "polygons2.isna().sum()"
   ]
  },
  {
   "cell_type": "code",
   "execution_count": 22,
   "id": "50138fbc-e668-4603-9df9-ab7032cdc4c5",
   "metadata": {},
   "outputs": [
    {
     "data": {
      "text/html": [
       "<div>\n",
       "<style scoped>\n",
       "    .dataframe tbody tr th:only-of-type {\n",
       "        vertical-align: middle;\n",
       "    }\n",
       "\n",
       "    .dataframe tbody tr th {\n",
       "        vertical-align: top;\n",
       "    }\n",
       "\n",
       "    .dataframe thead th {\n",
       "        text-align: right;\n",
       "    }\n",
       "</style>\n",
       "<table border=\"1\" class=\"dataframe\">\n",
       "  <thead>\n",
       "    <tr style=\"text-align: right;\">\n",
       "      <th></th>\n",
       "      <th>anlys_id</th>\n",
       "      <th>glac_id</th>\n",
       "      <th>anlys_time</th>\n",
       "      <th>area</th>\n",
       "      <th>db_area</th>\n",
       "      <th>width</th>\n",
       "      <th>length</th>\n",
       "      <th>primeclass</th>\n",
       "      <th>min_elev</th>\n",
       "      <th>mean_elev</th>\n",
       "      <th>max_elev</th>\n",
       "      <th>src_date</th>\n",
       "      <th>glac_name</th>\n",
       "      <th>glac_stat</th>\n",
       "      <th>geometry</th>\n",
       "    </tr>\n",
       "  </thead>\n",
       "  <tbody>\n",
       "    <tr>\n",
       "      <th>370969</th>\n",
       "      <td>386077.0</td>\n",
       "      <td>G243219E50714N</td>\n",
       "      <td>2008-05-01</td>\n",
       "      <td>4.535720</td>\n",
       "      <td>4.535700</td>\n",
       "      <td>0.0</td>\n",
       "      <td>0.0</td>\n",
       "      <td>0.0</td>\n",
       "      <td>0.0</td>\n",
       "      <td>0.0</td>\n",
       "      <td>0.0</td>\n",
       "      <td>2006-08-28</td>\n",
       "      <td>Bugaboo Glacier</td>\n",
       "      <td>exists</td>\n",
       "      <td>POLYGON Z ((-116.78553 50.73418 0.00000, -116....</td>\n",
       "    </tr>\n",
       "    <tr>\n",
       "      <th>276547</th>\n",
       "      <td>343119.0</td>\n",
       "      <td>G008548E46451N</td>\n",
       "      <td>1995-06-01</td>\n",
       "      <td>0.000005</td>\n",
       "      <td>0.041284</td>\n",
       "      <td>0.0</td>\n",
       "      <td>0.0</td>\n",
       "      <td>0.0</td>\n",
       "      <td>0.0</td>\n",
       "      <td>0.0</td>\n",
       "      <td>0.0</td>\n",
       "      <td>1973-09-01</td>\n",
       "      <td>None</td>\n",
       "      <td>exists</td>\n",
       "      <td>POLYGON Z ((8.54653 46.45091 0.00000, 8.54654 ...</td>\n",
       "    </tr>\n",
       "    <tr>\n",
       "      <th>559946</th>\n",
       "      <td>712393.0</td>\n",
       "      <td>G290842E82936N</td>\n",
       "      <td>2018-04-01</td>\n",
       "      <td>2.877970</td>\n",
       "      <td>2.880260</td>\n",
       "      <td>0.0</td>\n",
       "      <td>0.0</td>\n",
       "      <td>0.0</td>\n",
       "      <td>0.0</td>\n",
       "      <td>0.0</td>\n",
       "      <td>0.0</td>\n",
       "      <td>2009-07-30</td>\n",
       "      <td>None</td>\n",
       "      <td>exists</td>\n",
       "      <td>POLYGON Z ((-69.16558 82.94549 0.00000, -69.15...</td>\n",
       "    </tr>\n",
       "    <tr>\n",
       "      <th>520830</th>\n",
       "      <td>625815.0</td>\n",
       "      <td>G086202E28319N</td>\n",
       "      <td>2018-07-01</td>\n",
       "      <td>0.000000</td>\n",
       "      <td>3.169680</td>\n",
       "      <td>0.0</td>\n",
       "      <td>0.0</td>\n",
       "      <td>0.0</td>\n",
       "      <td>0.0</td>\n",
       "      <td>0.0</td>\n",
       "      <td>0.0</td>\n",
       "      <td>1998-06-11</td>\n",
       "      <td>Chaxiequdeng Glacier</td>\n",
       "      <td>exists</td>\n",
       "      <td>POLYGON Z ((86.20079 28.30517 0.00000, 86.2006...</td>\n",
       "    </tr>\n",
       "    <tr>\n",
       "      <th>221364</th>\n",
       "      <td>252265.0</td>\n",
       "      <td>G080326E35786N</td>\n",
       "      <td>2014-06-15</td>\n",
       "      <td>0.041183</td>\n",
       "      <td>0.041178</td>\n",
       "      <td>0.0</td>\n",
       "      <td>0.0</td>\n",
       "      <td>0.0</td>\n",
       "      <td>5733.0</td>\n",
       "      <td>5835.0</td>\n",
       "      <td>5917.0</td>\n",
       "      <td>2011-08-05</td>\n",
       "      <td>None</td>\n",
       "      <td>exists</td>\n",
       "      <td>POLYGON Z ((80.32480 35.78711 0.00000, 80.3248...</td>\n",
       "    </tr>\n",
       "  </tbody>\n",
       "</table>\n",
       "</div>"
      ],
      "text/plain": [
       "        anlys_id         glac_id anlys_time      area   db_area  width  \\\n",
       "370969  386077.0  G243219E50714N 2008-05-01  4.535720  4.535700    0.0   \n",
       "276547  343119.0  G008548E46451N 1995-06-01  0.000005  0.041284    0.0   \n",
       "559946  712393.0  G290842E82936N 2018-04-01  2.877970  2.880260    0.0   \n",
       "520830  625815.0  G086202E28319N 2018-07-01  0.000000  3.169680    0.0   \n",
       "221364  252265.0  G080326E35786N 2014-06-15  0.041183  0.041178    0.0   \n",
       "\n",
       "        length  primeclass  min_elev  mean_elev  max_elev   src_date  \\\n",
       "370969     0.0         0.0       0.0        0.0       0.0 2006-08-28   \n",
       "276547     0.0         0.0       0.0        0.0       0.0 1973-09-01   \n",
       "559946     0.0         0.0       0.0        0.0       0.0 2009-07-30   \n",
       "520830     0.0         0.0       0.0        0.0       0.0 1998-06-11   \n",
       "221364     0.0         0.0    5733.0     5835.0    5917.0 2011-08-05   \n",
       "\n",
       "                   glac_name glac_stat  \\\n",
       "370969       Bugaboo Glacier    exists   \n",
       "276547                  None    exists   \n",
       "559946                  None    exists   \n",
       "520830  Chaxiequdeng Glacier    exists   \n",
       "221364                  None    exists   \n",
       "\n",
       "                                                 geometry  \n",
       "370969  POLYGON Z ((-116.78553 50.73418 0.00000, -116....  \n",
       "276547  POLYGON Z ((8.54653 46.45091 0.00000, 8.54654 ...  \n",
       "559946  POLYGON Z ((-69.16558 82.94549 0.00000, -69.15...  \n",
       "520830  POLYGON Z ((86.20079 28.30517 0.00000, 86.2006...  \n",
       "221364  POLYGON Z ((80.32480 35.78711 0.00000, 80.3248...  "
      ]
     },
     "execution_count": 22,
     "metadata": {},
     "output_type": "execute_result"
    }
   ],
   "source": [
    "polygons2.sample(5)"
   ]
  },
  {
   "cell_type": "code",
   "execution_count": 23,
   "id": "c2fa7547-6cd2-483b-8f25-e89b28586a85",
   "metadata": {},
   "outputs": [],
   "source": [
    "#polygons2.to_csv(\"GLIMS_20230716/polygons2.csv\", index=False)"
   ]
  }
 ],
 "metadata": {
  "kernelspec": {
   "display_name": "Python 3 (ipykernel)",
   "language": "python",
   "name": "python3"
  },
  "language_info": {
   "codemirror_mode": {
    "name": "ipython",
    "version": 3
   },
   "file_extension": ".py",
   "mimetype": "text/x-python",
   "name": "python",
   "nbconvert_exporter": "python",
   "pygments_lexer": "ipython3",
   "version": "3.10.7"
  }
 },
 "nbformat": 4,
 "nbformat_minor": 5
}