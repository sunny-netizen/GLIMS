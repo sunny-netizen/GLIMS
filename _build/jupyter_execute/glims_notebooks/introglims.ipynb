{
 "cells": [
  {
   "cell_type": "markdown",
   "id": "ff5429eb-f64a-46ad-965b-d78a2c6067bd",
   "metadata": {},
   "source": [
    "# Introduction: GLIMS EDA \n",
    "Purpose: To identify interesting trends and insights about glaciers for visual data storytelling through Exploratory Data Analysis (EDA).\n",
    "\n",
    "## GLIMS Data\n",
    "\n",
    "GLIMS data was chosen to serve the purpose of this EDA because it was the most recent(continually updated), reliable, and complete glacier database with global coverage found...\n",
    "\n",
    "Coverage:\n",
    "- extent and rates of change of glaciers\n",
    "- the world's mountain glaciers and ice caps (excluding ice sheets of Greenland and Antarctica)\n",
    "- new data continually being added\n",
    "- repeating surveys of the world's estimated 200,000 glaciers\n",
    "\n",
    "Data Sources: \n",
    "- Advanced Spaceborne Thermal Emission and Reflection Radiometer (ASTER) instrument aboard the Terra satellite\n",
    "- LANDSAT series of satellites\n",
    "- historical observations\n",
    "- international contributions from regional glaciological institutions\n",
    "\n",
    "GLIMS data package (latest.zip, modified 2021-09-14 17:14) was downloaded on July 16th from the [HTTPS File System](https://daacdata.apps.nsidc.org/pub/DATASETS/nsidc0272_GLIMS_v1/) of the [GLIMS Glacier Database, Version 1](https://nsidc.org/data/nsidc-0272/versions/1) in the National Snow and Ice Data Center (NSIDC).\n",
    "- GLIMS Consortium, 2005. GLIMS Glacier Database, Version 1. Boulder Colorado, USA. NASA National Snow and Ice Data Center Distributed Active Archive Center. DOI: https://doi.org/10.7265/N5V98602 [Date accessed: 2023 July 16].\n",
    "    \n",
    "### Data Documentation\n",
    "- The README from latest.zip describes the images, lines, points, and polygons shapefiles.\n",
    "- The [User Guide](https://nsidc.org/sites/default/files/nsidc-0272-v001-userguide_1.pdf) and the [GLIMS Description of fields](http://www.glims.org/MapsAndDocs/downloaded_field_desc.html) were referenced for field definitions.\n",
    "- The [Summary Statistics](http://glims.colorado.edu/glacierdata/db_summary_stats.php) was referenced for context.\n",
    "- .....The GLIMS Glacier Viewer\n",
    "\n",
    "## Literature Review\n",
    "\n",
    "has been analyzed in research papers in recent years:\n",
    "\n",
    "- Windnagel, A., Hock, R., Maussion, F., Paul, F., Rastner, P., Raup, B., & Zemp, M. (2023). Which glaciers are the largest in the world? Journal of Glaciology, 69(274), 301-310. doi:10.1017/jog.2022.61."
   ]
  },
  {
   "cell_type": "markdown",
   "id": "28e40e3e-3342-4f61-ad51-45c4db61ec8e",
   "metadata": {},
   "source": [
    "# Methods: EDA Approach\n",
    "\n",
    "1. Observe dataset：Load data. Check size, head, tail. Identify trends in missing values.\n",
    "2. Categorize variables: Examine and modify datatypes - categorical, continuous, discrete. Organize dataset.\n",
    "3. Understand shape of variables (Univariate): categorical, continuous, discrete. histogram - distribution, skewness, gaps, modality. boxplot - outliers\n",
    "5. Identify relationships between variables (Bivariate):    scatterplots - correlations\n",
    "6. Treat outliers and missing values (Univariate): violinplot - shape\n",
    "7. Examine impact on relationships (Bivariate)\n",
    "8. Multivariate\n",
    "\n",
    "References:\n",
    "https://www.indeed.com/career-advice/career-development/how-to-conduct-exploratory-data-analysis"
   ]
  }
 ],
 "metadata": {
  "kernelspec": {
   "display_name": "Python 3 (ipykernel)",
   "language": "python",
   "name": "python3"
  },
  "language_info": {
   "codemirror_mode": {
    "name": "ipython",
    "version": 3
   },
   "file_extension": ".py",
   "mimetype": "text/x-python",
   "name": "python",
   "nbconvert_exporter": "python",
   "pygments_lexer": "ipython3",
   "version": "3.10.7"
  }
 },
 "nbformat": 4,
 "nbformat_minor": 5
}