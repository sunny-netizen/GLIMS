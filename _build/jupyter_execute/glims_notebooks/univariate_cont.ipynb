{
 "cells": [
  {
   "cell_type": "markdown",
   "id": "3227722a-c9de-4420-a0cb-6fd0ae4de5b7",
   "metadata": {},
   "source": [
    "## Continuous - Temporal\n",
    "\n",
    "Which time field(s) are useful and pertain to other measurement fields? The User Guide does not mention anlys_time, while the GLIMS Description of fields describes anlys_time as when analysis was carried out. Both associate src_date with the glacier outlines. Exploration is inconclusive.\n",
    "\n",
    "According to the [Summary Statistics](http://glims.colorado.edu/glacierdata/db_summary_stats.php) page, 173007 out of 444633 glaciers have multitemporal coverage."
   ]
  },
  {
   "cell_type": "code",
   "execution_count": 1,
   "id": "5849d275-f619-43d7-9e3a-725eb0335a8d",
   "metadata": {},
   "outputs": [
    {
     "ename": "NameError",
     "evalue": "name 'polygons2' is not defined",
     "output_type": "error",
     "traceback": [
      "\u001b[0;31m---------------------------------------------------------------------------\u001b[0m",
      "\u001b[0;31mNameError\u001b[0m                                 Traceback (most recent call last)",
      "Cell \u001b[0;32mIn [1], line 1\u001b[0m\n\u001b[0;32m----> 1\u001b[0m \u001b[43mpolygons2\u001b[49m\u001b[38;5;241m.\u001b[39mdtypes\n",
      "\u001b[0;31mNameError\u001b[0m: name 'polygons2' is not defined"
     ]
    }
   ],
   "source": [
    "polygons2.dtypes"
   ]
  },
  {
   "cell_type": "code",
   "execution_count": null,
   "id": "9431a49f-5f98-4cdd-94a2-1812fc139326",
   "metadata": {},
   "outputs": [],
   "source": [
    "polygons2.iloc[:,[3,12]].sample(10)"
   ]
  },
  {
   "cell_type": "code",
   "execution_count": null,
   "id": "4b64d53c-66b1-4808-940e-9aa0321415c4",
   "metadata": {},
   "outputs": [],
   "source": [
    "polygons2.iloc[:,[3,12]].describe()"
   ]
  },
  {
   "cell_type": "code",
   "execution_count": null,
   "id": "3e1767fc-aa52-4d0e-93bf-48cee9f719e8",
   "metadata": {},
   "outputs": [],
   "source": [
    "# src_date is usually older than anlys_time\n",
    "polygons2.src_date.hist(label='src_date');\n",
    "polygons2.anlys_time.hist(label='anlys_time');\n",
    "plt.title('anlys_time');\n",
    "plt.legend();\n",
    "\n",
    "(polygons2['anlys_time'] > polygons2['src_date']).value_counts()"
   ]
  },
  {
   "cell_type": "markdown",
   "id": "51e67ab6-354e-4eed-a868-062485386075",
   "metadata": {},
   "source": [
    "## Continuous - Area\n",
    "\n",
    "Area of glacier coverage (latest snapshot), km2\t1.20007e+06\n",
    "Note: A good working number for area is approximately 750,000 km2 (not including the ice sheets of Greenland and Antarctica).\n",
    "Earliest analysis\t1750-01-01\n",
    "Most recent analysis\t2021-02-26\n",
    "Number of glaciers with multi-temporal coverage\t173148\n",
    "\n",
    "\n",
    "\n",
    "\n",
    "\n",
    "\n",
    "db_area, calculated by the NSIDC, seems quite complete. \n",
    "\n",
    "area may be less complete, and width and length seem highly incomplete.\n"
   ]
  },
  {
   "cell_type": "code",
   "execution_count": null,
   "id": "53a614b2-19d4-4ff2-ba0c-e2ebac0e3051",
   "metadata": {},
   "outputs": [],
   "source": [
    "dimensions = polygons2.iloc[:, 3:7]\n",
    "dimensions"
   ]
  },
  {
   "cell_type": "code",
   "execution_count": null,
   "id": "57153d0f-4557-499d-b625-fde6a14f09d5",
   "metadata": {},
   "outputs": [],
   "source": [
    "dimensions.hist();\n",
    "plt.tight_layout();"
   ]
  },
  {
   "cell_type": "code",
   "execution_count": null,
   "id": "be23c636-659c-4eec-b201-f6a2ad6583b2",
   "metadata": {},
   "outputs": [],
   "source": [
    "# How can there be negative min values?\n",
    "dimensions.describe()"
   ]
  },
  {
   "cell_type": "code",
   "execution_count": null,
   "id": "bdc9f070-d878-48b0-9183-2b4fa32fbb16",
   "metadata": {},
   "outputs": [],
   "source": [
    "# their scales are quite different\n",
    "dimensions.boxplot(flierprops={'marker': 'o', 'markersize': 5, 'markerfacecolor': 'red'});"
   ]
  },
  {
   "cell_type": "code",
   "execution_count": null,
   "id": "e7056ce1-0f21-4b0e-b58b-a7f3d9cf9dcd",
   "metadata": {},
   "outputs": [],
   "source": [
    "# most of the data is around zero\n",
    "fig, axs = plt.subplots(2, 4)\n",
    "axs[0, 0].boxplot(dimensions.area, flierprops={'marker': 'o', 'markersize': 5,  'markerfacecolor': 'red'});\n",
    "axs[0, 1].violinplot(dimensions.area);\n",
    "axs[0, 2].boxplot(dimensions.db_area, flierprops={'marker': 'o', 'markersize': 5, 'markerfacecolor': 'red'});\n",
    "axs[0, 3].violinplot(dimensions.db_area);\n",
    "axs[1, 0].boxplot(dimensions.width, flierprops={'marker': 'o', 'markersize': 5, 'markerfacecolor': 'red'});\n",
    "axs[1, 1].violinplot(dimensions.width);\n",
    "axs[1, 2].boxplot(dimensions.length, flierprops={'marker': 'o', 'markersize': 5, 'markerfacecolor': 'red'});\n",
    "axs[1, 3].violinplot(dimensions.length);"
   ]
  },
  {
   "cell_type": "code",
   "execution_count": null,
   "id": "0dc6e68b-114e-46a9-9639-365ca61d8709",
   "metadata": {},
   "outputs": [],
   "source": [
    "# width and length are > 90% zero - because of lack of data?\n",
    "# area also has substantial zeros, while db_area has hardly any zeroes\n",
    "# db_area is more complete\n",
    "dimensions.eq(0).sum() / dimensions.shape[0]"
   ]
  },
  {
   "cell_type": "code",
   "execution_count": null,
   "id": "436976be-1db5-4848-a1a9-809680b2b583",
   "metadata": {},
   "outputs": [],
   "source": [
    "# Proceed with db_area\n",
    "dimensions.db_area.describe()"
   ]
  },
  {
   "cell_type": "code",
   "execution_count": null,
   "id": "a05b0420-3576-4b5d-a171-f391c9bd4c78",
   "metadata": {},
   "outputs": [],
   "source": [
    "# The ones with a negative area\n",
    "plt.violinplot(dimensions[dimensions.db_area < 0].db_area);"
   ]
  },
  {
   "cell_type": "code",
   "execution_count": null,
   "id": "fb79fadf-34f6-4f7a-bcda-a3b5f9ecb919",
   "metadata": {},
   "outputs": [],
   "source": [
    "plt.violinplot(dimensions[dimensions.db_area > 0].db_area);"
   ]
  },
  {
   "cell_type": "code",
   "execution_count": null,
   "id": "941000a0-cd3e-4ebd-966e-49b225e47859",
   "metadata": {},
   "outputs": [],
   "source": [
    "pos = dimensions[dimensions.db_area > 0].db_area\n",
    "plt.violinplot(pos[pos<1]);\n"
   ]
  },
  {
   "cell_type": "code",
   "execution_count": null,
   "id": "987a60ce-a544-4668-8313-85b5a123fc45",
   "metadata": {},
   "outputs": [],
   "source": [
    "np.log(dimensions.db_area + 1).hist();"
   ]
  },
  {
   "cell_type": "markdown",
   "id": "bfd1053f-bbd5-40b6-b2a5-6846aea747f9",
   "metadata": {},
   "source": [
    "## Continuous - Elevation\n",
    "Half of glaciers have elevations around sealevel, and a few below, which seems dubious as they are usually high in the mountains."
   ]
  },
  {
   "cell_type": "code",
   "execution_count": null,
   "id": "913d4963-660a-48f3-b3ac-9ba491c0a51c",
   "metadata": {},
   "outputs": [],
   "source": [
    "elevations = polygons2.iloc[:, 8:11]\n",
    "elevations"
   ]
  },
  {
   "cell_type": "code",
   "execution_count": null,
   "id": "8cfb9d92-db9d-4046-b795-e896362f3d16",
   "metadata": {},
   "outputs": [],
   "source": [
    "elevations.hist();\n",
    "plt.tight_layout();"
   ]
  },
  {
   "cell_type": "code",
   "execution_count": null,
   "id": "10d517b9-7c56-42a7-9e66-2a95424b7a7b",
   "metadata": {},
   "outputs": [],
   "source": [
    "# Elevations have many zero values and a few negative values...?\n",
    "plt.style.use('default')\n",
    "plt.hist(elevations.min_elev, alpha=0.5, bins=30, label='Min Elevation')\n",
    "plt.hist(elevations.mean_elev, alpha=0.5, bins=30, label='Mean Elevation')\n",
    "plt.hist(elevations.max_elev, alpha=0.5, bins=30, label='Max Elevation')\n",
    "plt.legend();\n",
    "plt.title('Elevations');"
   ]
  },
  {
   "cell_type": "code",
   "execution_count": null,
   "id": "4187e7ef-ef23-4eb0-875b-60a27b0714cc",
   "metadata": {},
   "outputs": [],
   "source": [
    "elevations.describe()"
   ]
  },
  {
   "cell_type": "code",
   "execution_count": null,
   "id": "94e47886-f17a-4064-941c-261f8b797fa7",
   "metadata": {},
   "outputs": [],
   "source": [
    "# Quite a lot of data near zero (glaciers at sea level)\n",
    "plt.violinplot(elevations);"
   ]
  },
  {
   "cell_type": "code",
   "execution_count": null,
   "id": "128f4726-8ec2-426e-bf8f-1bf3ad97c1d4",
   "metadata": {},
   "outputs": [],
   "source": [
    "# Nearly half or more are zero\n",
    "elevations.eq(0).sum() / elevations.shape[0]"
   ]
  },
  {
   "cell_type": "code",
   "execution_count": null,
   "id": "1c70941c-4b53-42bc-99c7-4941856e0a87",
   "metadata": {},
   "outputs": [],
   "source": [
    "# Nearly half of the zeros coincide --- missing data, or at sea-level?\n",
    "elevations[elevations.min_elev == elevations.max_elev].eq(0).sum() / elevations.shape[0]"
   ]
  },
  {
   "cell_type": "code",
   "execution_count": null,
   "id": "e73aa0f8-60da-4e76-b044-55283ac2cdd8",
   "metadata": {},
   "outputs": [],
   "source": [
    "polygons2[polygons2.max_elev == polygons2.min_elev]"
   ]
  },
  {
   "cell_type": "code",
   "execution_count": null,
   "id": "f08b23f7-254f-4d38-a4e3-f7fcec2499c7",
   "metadata": {},
   "outputs": [],
   "source": [
    "# Negative values only seem to be around -10000 ...?\n",
    "elevations.boxplot(flierprops={'marker': 'o', 'markersize': 5, 'markerfacecolor': 'red'});"
   ]
  },
  {
   "cell_type": "code",
   "execution_count": null,
   "id": "2e6960b1-b722-4665-ba6e-4d5d3c8a6f18",
   "metadata": {},
   "outputs": [],
   "source": [
    "# These few glaciers are below sealevel\n",
    "print(len(polygons2[polygons2.min_elev<0]))\n",
    "print(len(polygons2[polygons2.mean_elev<0]))\n",
    "print(len(polygons2[polygons2.max_elev<0]))"
   ]
  },
  {
   "cell_type": "code",
   "execution_count": null,
   "id": "5628b963-bf50-42fa-b200-e97ad6ae75e1",
   "metadata": {},
   "outputs": [],
   "source": [
    "# Most of them coincide\n",
    "print(polygons2[ (polygons2.min_elev<0) & (polygons2.mean_elev<0) & (polygons2.max_elev<0)].shape)\n",
    "print(polygons2[ (polygons2.min_elev<0) | (polygons2.mean_elev<0) | (polygons2.max_elev<0)].shape)"
   ]
  },
  {
   "cell_type": "code",
   "execution_count": null,
   "id": "dcffaa36-7922-4cb8-b282-9f0fcfe64a8d",
   "metadata": {},
   "outputs": [],
   "source": [
    "# Where are they? Create of subset of these low glaciers for visualization\n",
    "submarine = polygons2[ (polygons2.min_elev<0) | (polygons2.mean_elev<0) | (polygons2.max_elev<0)]\n",
    "submarine.shape, submarine.crs "
   ]
  },
  {
   "cell_type": "code",
   "execution_count": null,
   "id": "847d4b1a-8fb7-4f9d-9386-c8694c46490d",
   "metadata": {},
   "outputs": [],
   "source": [
    "# They seem to be in NW USA and Nepal. Data errors?\n",
    "fig, ax = plt.subplots(figsize=(10, 8))\n",
    "world.boundary.plot(ax=ax, edgecolor = 'black', linewidth=0.2);\n",
    "submarine['geometry'].centroid.plot(ax=ax, marker='.', color='red', markersize=10);\n",
    "ax.set_xlim(submarine.total_bounds[0]-5, submarine.total_bounds[2]+5)\n",
    "ax.set_ylim(submarine.total_bounds[1]-5, submarine.total_bounds[3]+5)"
   ]
  },
  {
   "cell_type": "code",
   "execution_count": null,
   "id": "7070825d-5517-4b74-8555-e934d320e636",
   "metadata": {},
   "outputs": [],
   "source": []
  },
  {
   "cell_type": "code",
   "execution_count": null,
   "id": "5c555133-271e-4891-9457-402cfdc7c371",
   "metadata": {},
   "outputs": [],
   "source": []
  }
 ],
 "metadata": {
  "kernelspec": {
   "display_name": "Python 3 (ipykernel)",
   "language": "python",
   "name": "python3"
  },
  "language_info": {
   "codemirror_mode": {
    "name": "ipython",
    "version": 3
   },
   "file_extension": ".py",
   "mimetype": "text/x-python",
   "name": "python",
   "nbconvert_exporter": "python",
   "pygments_lexer": "ipython3",
   "version": "3.10.7"
  }
 },
 "nbformat": 4,
 "nbformat_minor": 5
}