{
 "cells": [
  {
   "cell_type": "markdown",
   "id": "1b3ef2ea-5a87-41ab-b3e4-fa4f14a89102",
   "metadata": {},
   "source": [
    "# Bivariate\n",
    "\n",
    "In summary, the data fields that seems most interesting (and complete) include: db_area. \n",
    "\n",
    "glac_stat and anlys_time, also associated with NCSIDC calculations, may also be considered.\n",
    "\n",
    "elevations, src_date, primeclass, can be checked."
   ]
  },
  {
   "cell_type": "code",
   "execution_count": null,
   "id": "37ec1505-48cb-4c1b-b0ea-bd05a830749b",
   "metadata": {},
   "outputs": [],
   "source": [
    "# gone glaciers\n",
    "# zero area glaciers"
   ]
  },
  {
   "cell_type": "code",
   "execution_count": null,
   "id": "952a12aa-6a26-47ee-b01a-1be1302a3d91",
   "metadata": {},
   "outputs": [],
   "source": [
    "# db_area\n",
    "numeric = polygons3[['area', 'db_area','width', 'length', 'min_elev', 'mean_elev', 'max_elev']]\n",
    "numeric.sample(5)"
   ]
  },
  {
   "cell_type": "code",
   "execution_count": null,
   "id": "92532227-6181-4411-af62-3295fef24c2e",
   "metadata": {},
   "outputs": [],
   "source": [
    "# Kills the kernel\n",
    "#sns.pairplot(numeric)"
   ]
  },
  {
   "cell_type": "code",
   "execution_count": null,
   "id": "103c8512-ae42-4a10-ad2d-a4409742417d",
   "metadata": {},
   "outputs": [],
   "source": [
    "polygons3.to_csv('polygons3.csv', index=False) "
   ]
  },
  {
   "cell_type": "code",
   "execution_count": null,
   "id": "7a50bafe-2bb0-4b8e-b86f-cdc28ad9633c",
   "metadata": {},
   "outputs": [],
   "source": [
    "# Which glaciers have been analyzed more than once?\n",
    "\n",
    "# Count the number of unique 'anlys_time' per 'glac_id'\n",
    "grouped = polygons3.groupby('glac_id')['anlys_time'].nunique()\n",
    "\n",
    "# Subset rows where 'glac_id' has more than one unique 'anlys_time'\n",
    "multitemp = polygons3[polygons3['glac_id'].isin(grouped[grouped > 1].index)]\n",
    "\n",
    "# Check if subset was successful\n",
    "multitemp.shape, polygons3.shape"
   ]
  },
  {
   "cell_type": "code",
   "execution_count": null,
   "id": "284a9e7e-b989-42e7-8f3c-8a6c810df157",
   "metadata": {},
   "outputs": [],
   "source": [
    "polygons3.db_area.hist()\n",
    "multitemp.db_area.hist()"
   ]
  },
  {
   "cell_type": "code",
   "execution_count": null,
   "id": "4f20958f-ba1e-4d74-a70f-157eec0d4183",
   "metadata": {},
   "outputs": [],
   "source": [
    "# Create a figure and an axis object\n",
    "fig, axs = plt.subplots(nrows=1, ncols=2, figsize=(9, 4))\n",
    "\n",
    "# Create a box plot for `polygons3.db_area` at position 1\n",
    "axs[0].boxplot(polygons3.db_area)\n",
    "\n",
    "# Create a box plot for `multitemp.db_area` at position 2\n",
    "axs[1].boxplot(multitemp.db_area)"
   ]
  },
  {
   "cell_type": "code",
   "execution_count": null,
   "id": "5f446e4c-0ab0-4f29-b6e0-bbc950d55c41",
   "metadata": {},
   "outputs": [],
   "source": [
    "polygons3.db_area.violinplot()\n",
    "multitemp.db_area.violinplot()"
   ]
  },
  {
   "cell_type": "code",
   "execution_count": null,
   "id": "35e62626-6518-49df-9bb0-f3b25f9343ca",
   "metadata": {},
   "outputs": [],
   "source": [
    "plt.plot(multitemp.anlys_time, multitemp.db_area)"
   ]
  },
  {
   "cell_type": "code",
   "execution_count": null,
   "id": "084d2cb3-d0e9-4e24-a8f8-d507b6bfd43c",
   "metadata": {},
   "outputs": [],
   "source": [
    "#plt.stackplot(x, y)"
   ]
  }
 ],
 "metadata": {
  "kernelspec": {
   "display_name": "Python 3 (ipykernel)",
   "language": "python",
   "name": "python3"
  },
  "language_info": {
   "codemirror_mode": {
    "name": "ipython",
    "version": 3
   },
   "file_extension": ".py",
   "mimetype": "text/x-python",
   "name": "python",
   "nbconvert_exporter": "python",
   "pygments_lexer": "ipython3",
   "version": "3.10.7"
  }
 },
 "nbformat": 4,
 "nbformat_minor": 5
}
