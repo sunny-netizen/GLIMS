{
 "cells": [
  {
   "cell_type": "markdown",
   "id": "dcb2cb00-2945-474d-ade6-c565b9d6da30",
   "metadata": {},
   "source": [
    "# Understand shape of variables (Univariate)\n",
    "\n",
    "## Categorical - id\n",
    "\n",
    "### Count Glaciers\n",
    "Verify how many glaciers there are, evaluating the integrity of ID categories. \n",
    "\n",
    "The points data provides an expected count.\n",
    "\n",
    "| Basic Statistic | Points Data | \n",
    "| --------------- | --------------- | \n",
    "| Number of glaciers    | 328116 (glacial_id) |  "
   ]
  },
  {
   "cell_type": "code",
   "execution_count": 1,
   "id": "c15d1df3-fd1e-4d26-a317-f767c56425eb",
   "metadata": {},
   "outputs": [
    {
     "name": "stdout",
     "output_type": "stream",
     "text": [
      "Current Directory: /Users/yun/Documents/GLIMS/GLIMS_20230716\n"
     ]
    }
   ],
   "source": [
    "# Import libraries\n",
    "import os\n",
    "import numpy as np\n",
    "import pandas as pd\n",
    "import geopandas as gpd\n",
    "import matplotlib.pyplot as plt\n",
    "import seaborn as sns\n",
    "\n",
    "# Check working directory\n",
    "current_directory = os.getcwd()\n",
    "print(\"Current Directory:\", current_directory)\n",
    "\n",
    "# Ask pandas to display all columns\n",
    "pd.set_option('display.max_columns', None)"
   ]
  },
  {
   "cell_type": "code",
   "execution_count": null,
   "id": "db75bbbd-bd7c-4e96-945f-018354c2c093",
   "metadata": {},
   "outputs": [],
   "source": [
    "# Load Esri shapefiles as geopandas dataframes\n",
    "points = gpd.read_file(\"GLIMS_20230716/glims_download_13173/glims_points.shp\")\n",
    "polygons = gpd.read_file(\"GLIMS_20230716/glims_download_13173/glims_polygons.shp\")\n",
    "#polygons2 = gpd.read_file(\"GLIMS_20230716/polygons2.csv\")"
   ]
  },
  {
   "cell_type": "code",
   "execution_count": null,
   "id": "2cb93ef7-bc5f-49cb-b8c3-15d706eb31ad",
   "metadata": {},
   "outputs": [],
   "source": [
    "# Remove submission-related columns\n",
    "polygons1 = polygons.drop(labels=[\n",
    "    'rec_status', 'wgms_id', 'local_id', \n",
    "    'subm_id', 'release_dt', 'proc_desc', \n",
    "    'rc_id', 'geog_area', 'chief_affl', \n",
    "    'loc_unc_x', 'loc_unc_y', 'glob_unc_x', 'glob_unc_y',\n",
    "    'submitters', 'analysts'\n",
    "], axis=1)"
   ]
  },
  {
   "cell_type": "code",
   "execution_count": null,
   "id": "c6902624-25c4-459c-92ec-d664824c554c",
   "metadata": {},
   "outputs": [],
   "source": [
    "# Remove non-glacier entities.\n",
    "polygons2 = polygons1[polygons1.line_type==\"glac_bound\"]\n",
    "#polygons2.line_type.value_counts()\n",
    "polygons2.drop('line_type', axis=1, inplace=True)"
   ]
  },
  {
   "cell_type": "code",
   "execution_count": 23,
   "id": "651b67c7-1d96-4809-acaf-0f8aa3292291",
   "metadata": {},
   "outputs": [
    {
     "name": "stdout",
     "output_type": "stream",
     "text": [
      "328116\n"
     ]
    },
    {
     "data": {
      "text/plain": [
       "328116"
      ]
     },
     "execution_count": 23,
     "metadata": {},
     "output_type": "execute_result"
    }
   ],
   "source": [
    "# Verify that each point feature represents a unique glacier\n",
    "\n",
    "# Number of points entries\n",
    "print(points.shape[0])\n",
    "\n",
    "# Unique points IDs\n",
    "points.glacier_id.nunique()"
   ]
  },
  {
   "cell_type": "markdown",
   "id": "09aaf74c-8a08-4106-b2be-16e01af00742",
   "metadata": {},
   "source": [
    "In the glacial-subsetted polygons data, \n",
    "- Relatively few glaciers have names; this category may be trivial for now.\n",
    "- polygons glac_id < points glacial_id. Perhaps some points were lost when subsetting glacial entities.\n",
    "- glac_id << (geometries < anlyt_id < row entries). Perhaps many glaciers are analyzed more than once. Perhaps new analyses often but not always produce new geometries, reflecting changes in glacier size. Perhaps some glaciers are represented by more than one polygon.\n",
    "\n",
    "\n",
    "| Basic Statistic | Points Data | Glacial Polygons Data | \n",
    "| --------------- | --------------- | --------------- |\n",
    "| Number of glaciers    | 328116 (glacial_id) | 328112 (glac_id)  |\n",
    "| Number of glacier analyses (snapshots)    | -  |      565887 (anlys_id)  |"
   ]
  },
  {
   "cell_type": "code",
   "execution_count": 24,
   "id": "cd4f3043-cc50-456f-a9ce-e4012f0035c0",
   "metadata": {},
   "outputs": [
    {
     "name": "stdout",
     "output_type": "stream",
     "text": [
      "564112\n"
     ]
    },
    {
     "data": {
      "text/plain": [
       "anlys_id     557878\n",
       "glac_id      328112\n",
       "glac_name     35111\n",
       "geometry     528652\n",
       "dtype: int64"
      ]
     },
     "execution_count": 24,
     "metadata": {},
     "output_type": "execute_result"
    }
   ],
   "source": [
    "# Row entries\n",
    "print(polygons2.shape[0])\n",
    "\n",
    "# Unique ids\n",
    "polygons2[['anlys_id', 'glac_id', 'glac_name', 'geometry']].nunique()"
   ]
  },
  {
   "cell_type": "markdown",
   "id": "fdb2261b-11c4-4405-b25b-9243ef530018",
   "metadata": {},
   "source": [
    "However, in the non-subsetted polygons data including non-glacial entities, the number of unique glac_id is even closer to the expected glacier count. \n",
    "\n",
    "| Basic Statistic | Points Data | Polygons Data | Glacial Polygons Data | \n",
    "| --------------- | --------------- | --------------- | --------------- |\n",
    "| Number of glaciers    | 328116 (glacial_id) |  328115 (glac_id)  |  328112 (glac_id)  |\n",
    "| Number of glacier analyses (snapshots)    | - | -   |      565887 (anlys_id)  |"
   ]
  },
  {
   "cell_type": "code",
   "execution_count": 25,
   "id": "eb64f50c-e99c-4623-8242-0575e279d41e",
   "metadata": {},
   "outputs": [
    {
     "name": "stdout",
     "output_type": "stream",
     "text": [
      "565887\n"
     ]
    },
    {
     "data": {
      "text/plain": [
       "anlys_id     557884\n",
       "glac_id      328115\n",
       "glac_name     35112\n",
       "geometry     530099\n",
       "dtype: int64"
      ]
     },
     "execution_count": 25,
     "metadata": {},
     "output_type": "execute_result"
    }
   ],
   "source": [
    "# Row entries\n",
    "print(polygons.shape[0])\n",
    "\n",
    "polygons[['anlys_id', 'glac_id', 'glac_name', 'geometry']].nunique()"
   ]
  },
  {
   "cell_type": "raw",
   "id": "f6f0200a-88cc-41be-85cf-6cb772b47dc1",
   "metadata": {},
   "source": [
    "polygons2    564112\n",
    "anlys_id     557878\n",
    "glac_id      328112\n",
    "glac_name     35111\n",
    "geometry     530099\n",
    "\n",
    "polygons     565887\n",
    "anlys_id     557884\n",
    "glac_id      328115\n",
    "glac_name     35112\n",
    "geometry     530099"
   ]
  },
  {
   "cell_type": "markdown",
   "id": "b31d160f-2a0b-4ee0-920e-aa686fa4c190",
   "metadata": {},
   "source": [
    "### Resolve Discrepancies\n",
    "Further inspection identifies the discrepancies. Perhaps they are yet to be studied further or had melted by the time they were researched (glacial area = 0)."
   ]
  },
  {
   "cell_type": "code",
   "execution_count": 26,
   "id": "2501b5fd-e9ee-41aa-9d82-cb1fc6e73bed",
   "metadata": {},
   "outputs": [
    {
     "data": {
      "text/html": [
       "<div>\n",
       "<style scoped>\n",
       "    .dataframe tbody tr th:only-of-type {\n",
       "        vertical-align: middle;\n",
       "    }\n",
       "\n",
       "    .dataframe tbody tr th {\n",
       "        vertical-align: top;\n",
       "    }\n",
       "\n",
       "    .dataframe thead th {\n",
       "        text-align: right;\n",
       "    }\n",
       "</style>\n",
       "<table border=\"1\" class=\"dataframe\">\n",
       "  <thead>\n",
       "    <tr style=\"text-align: right;\">\n",
       "      <th></th>\n",
       "      <th>glacier_id</th>\n",
       "      <th>geometry</th>\n",
       "    </tr>\n",
       "  </thead>\n",
       "  <tbody>\n",
       "    <tr>\n",
       "      <th>14810</th>\n",
       "      <td>G013275E47098N</td>\n",
       "      <td>POINT Z (13.27500 47.09800 0.00000)</td>\n",
       "    </tr>\n",
       "    <tr>\n",
       "      <th>150588</th>\n",
       "      <td>G087657E50098N</td>\n",
       "      <td>POINT Z (87.65700 50.09800 0.00000)</td>\n",
       "    </tr>\n",
       "    <tr>\n",
       "      <th>258013</th>\n",
       "      <td>G286571E47471S</td>\n",
       "      <td>POINT Z (-73.42900 -47.47100 0.00000)</td>\n",
       "    </tr>\n",
       "    <tr>\n",
       "      <th>259079</th>\n",
       "      <td>G286669E47411S</td>\n",
       "      <td>POINT Z (-73.33100 -47.41100 0.00000)</td>\n",
       "    </tr>\n",
       "  </tbody>\n",
       "</table>\n",
       "</div>"
      ],
      "text/plain": [
       "            glacier_id                               geometry\n",
       "14810   G013275E47098N    POINT Z (13.27500 47.09800 0.00000)\n",
       "150588  G087657E50098N    POINT Z (87.65700 50.09800 0.00000)\n",
       "258013  G286571E47471S  POINT Z (-73.42900 -47.47100 0.00000)\n",
       "259079  G286669E47411S  POINT Z (-73.33100 -47.41100 0.00000)"
      ]
     },
     "execution_count": 26,
     "metadata": {},
     "output_type": "execute_result"
    },
    {
     "data": {
      "image/png": "[encoded data removed]",
      "text/plain": [
       "<Figure size 640x480 with 1 Axes>"
      ]
     },
     "metadata": {},
     "output_type": "display_data"
    }
   ],
   "source": [
    "# points data entries not in polygons2 data\n",
    "unaccounted2 = points[~points['glacier_id'].isin(polygons2['glac_id'])]\n",
    "\n",
    "# map points data entries not in polygons2 data\n",
    "ax2 = world.plot(color='white', edgecolor='grey');\n",
    "unaccounted2.plot(ax=ax2, color = 'red');\n",
    "\n",
    "unaccounted2"
   ]
  },
  {
   "cell_type": "markdown",
   "id": "2e38b522-ab77-439f-b510-ab1e7b76efbd",
   "metadata": {},
   "source": [
    "Here is the only glacier with a representative point but no polygon features."
   ]
  },
  {
   "cell_type": "code",
   "execution_count": 27,
   "id": "694d7f8d-1959-446a-a6aa-032a7b65620a",
   "metadata": {},
   "outputs": [
    {
     "data": {
      "text/html": [
       "<div>\n",
       "<style scoped>\n",
       "    .dataframe tbody tr th:only-of-type {\n",
       "        vertical-align: middle;\n",
       "    }\n",
       "\n",
       "    .dataframe tbody tr th {\n",
       "        vertical-align: top;\n",
       "    }\n",
       "\n",
       "    .dataframe thead th {\n",
       "        text-align: right;\n",
       "    }\n",
       "</style>\n",
       "<table border=\"1\" class=\"dataframe\">\n",
       "  <thead>\n",
       "    <tr style=\"text-align: right;\">\n",
       "      <th></th>\n",
       "      <th>glacier_id</th>\n",
       "      <th>geometry</th>\n",
       "    </tr>\n",
       "  </thead>\n",
       "  <tbody>\n",
       "    <tr>\n",
       "      <th>150588</th>\n",
       "      <td>G087657E50098N</td>\n",
       "      <td>POINT Z (87.65700 50.09800 0.00000)</td>\n",
       "    </tr>\n",
       "  </tbody>\n",
       "</table>\n",
       "</div>"
      ],
      "text/plain": [
       "            glacier_id                             geometry\n",
       "150588  G087657E50098N  POINT Z (87.65700 50.09800 0.00000)"
      ]
     },
     "execution_count": 27,
     "metadata": {},
     "output_type": "execute_result"
    },
    {
     "data": {
      "image/png": "[encoded data removed]",
      "text/plain": [
       "<Figure size 640x480 with 1 Axes>"
      ]
     },
     "metadata": {},
     "output_type": "display_data"
    }
   ],
   "source": [
    "# points data entries not in polygons data\n",
    "unaccounted = points[~points['glacier_id'].isin(polygons['glac_id'])]\n",
    "\n",
    "# map points data entries not in polygons data\n",
    "ax = world.plot(color='white', edgecolor='grey');\n",
    "unaccounted.plot(ax=ax, color = 'red');\n",
    "\n",
    "unaccounted"
   ]
  },
  {
   "cell_type": "markdown",
   "id": "821198a6-2867-4e3f-be84-1997cff562e2",
   "metadata": {},
   "source": [
    "And here are the glaciers without glacial polygons, only nunatek polygons."
   ]
  },
  {
   "cell_type": "code",
   "execution_count": 28,
   "id": "46d655fc-b20a-4272-a079-e44ab840fa29",
   "metadata": {},
   "outputs": [
    {
     "data": {
      "text/html": [
       "<div>\n",
       "<style scoped>\n",
       "    .dataframe tbody tr th:only-of-type {\n",
       "        vertical-align: middle;\n",
       "    }\n",
       "\n",
       "    .dataframe tbody tr th {\n",
       "        vertical-align: top;\n",
       "    }\n",
       "\n",
       "    .dataframe thead th {\n",
       "        text-align: right;\n",
       "    }\n",
       "</style>\n",
       "<table border=\"1\" class=\"dataframe\">\n",
       "  <thead>\n",
       "    <tr style=\"text-align: right;\">\n",
       "      <th></th>\n",
       "      <th>line_type</th>\n",
       "      <th>anlys_id</th>\n",
       "      <th>glac_id</th>\n",
       "      <th>anlys_time</th>\n",
       "      <th>area</th>\n",
       "      <th>db_area</th>\n",
       "      <th>width</th>\n",
       "      <th>length</th>\n",
       "      <th>primeclass</th>\n",
       "      <th>min_elev</th>\n",
       "      <th>mean_elev</th>\n",
       "      <th>max_elev</th>\n",
       "      <th>src_date</th>\n",
       "      <th>rec_status</th>\n",
       "      <th>glac_name</th>\n",
       "      <th>wgms_id</th>\n",
       "      <th>local_id</th>\n",
       "      <th>glac_stat</th>\n",
       "      <th>subm_id</th>\n",
       "      <th>release_dt</th>\n",
       "      <th>proc_desc</th>\n",
       "      <th>rc_id</th>\n",
       "      <th>geog_area</th>\n",
       "      <th>chief_affl</th>\n",
       "      <th>loc_unc_x</th>\n",
       "      <th>loc_unc_y</th>\n",
       "      <th>glob_unc_x</th>\n",
       "      <th>glob_unc_y</th>\n",
       "      <th>submitters</th>\n",
       "      <th>analysts</th>\n",
       "      <th>geometry</th>\n",
       "    </tr>\n",
       "  </thead>\n",
       "  <tbody>\n",
       "    <tr>\n",
       "      <th>279735</th>\n",
       "      <td>intrnl_rock</td>\n",
       "      <td>346955.0</td>\n",
       "      <td>G013275E47098N</td>\n",
       "      <td>2012-06-30T00:00:00</td>\n",
       "      <td>0.00</td>\n",
       "      <td>0.098722</td>\n",
       "      <td>0.0</td>\n",
       "      <td>0.0</td>\n",
       "      <td>0.0</td>\n",
       "      <td>0.0</td>\n",
       "      <td>0.0</td>\n",
       "      <td>0.0</td>\n",
       "      <td>2012-06-30T00:00:00</td>\n",
       "      <td>okay</td>\n",
       "      <td>Gstss Kees E,</td>\n",
       "      <td>None</td>\n",
       "      <td>None</td>\n",
       "      <td>exists</td>\n",
       "      <td>603.0</td>\n",
       "      <td>2016-03-07T09:00:00</td>\n",
       "      <td>Where no lidar data were available,the GI 2 gl...</td>\n",
       "      <td>34.0</td>\n",
       "      <td>Austrian Alps</td>\n",
       "      <td>Universitaet Innsbruck</td>\n",
       "      <td>50</td>\n",
       "      <td>50</td>\n",
       "      <td>30</td>\n",
       "      <td>30</td>\n",
       "      <td>Fischer, Andrea</td>\n",
       "      <td>Fischer, Andrea</td>\n",
       "      <td>POLYGON Z ((13.28654 47.09805 0.00000, 13.2865...</td>\n",
       "    </tr>\n",
       "    <tr>\n",
       "      <th>351409</th>\n",
       "      <td>intrnl_rock</td>\n",
       "      <td>2152.0</td>\n",
       "      <td>G286571E47471S</td>\n",
       "      <td>2005-07-14T23:33:02</td>\n",
       "      <td>1.29</td>\n",
       "      <td>1.273130</td>\n",
       "      <td>0.0</td>\n",
       "      <td>0.0</td>\n",
       "      <td>0.0</td>\n",
       "      <td>0.0</td>\n",
       "      <td>0.0</td>\n",
       "      <td>0.0</td>\n",
       "      <td>2001-03-11T00:00:00</td>\n",
       "      <td>okay</td>\n",
       "      <td>None</td>\n",
       "      <td>50</td>\n",
       "      <td>NPI-50</td>\n",
       "      <td>None</td>\n",
       "      <td>100.0</td>\n",
       "      <td>2005-12-20T19:43:58</td>\n",
       "      <td>Manually digitised; A manually-based procedure...</td>\n",
       "      <td>20.0</td>\n",
       "      <td>Chilean glaciers, between -18 and -56 degrees ...</td>\n",
       "      <td>Universidad de Chile</td>\n",
       "      <td>0</td>\n",
       "      <td>0</td>\n",
       "      <td>0</td>\n",
       "      <td>0</td>\n",
       "      <td>Bown, Francisca</td>\n",
       "      <td>Rivera, Andres</td>\n",
       "      <td>POLYGON Z ((-73.42454 -47.46965 0.00000, -73.4...</td>\n",
       "    </tr>\n",
       "    <tr>\n",
       "      <th>353371</th>\n",
       "      <td>intrnl_rock</td>\n",
       "      <td>2154.0</td>\n",
       "      <td>G286669E47411S</td>\n",
       "      <td>2005-07-14T23:33:02</td>\n",
       "      <td>1.00</td>\n",
       "      <td>0.999455</td>\n",
       "      <td>0.0</td>\n",
       "      <td>0.0</td>\n",
       "      <td>0.0</td>\n",
       "      <td>0.0</td>\n",
       "      <td>0.0</td>\n",
       "      <td>0.0</td>\n",
       "      <td>2001-03-11T00:00:00</td>\n",
       "      <td>okay</td>\n",
       "      <td>None</td>\n",
       "      <td>55</td>\n",
       "      <td>NPI-55</td>\n",
       "      <td>None</td>\n",
       "      <td>100.0</td>\n",
       "      <td>2005-12-20T19:43:58</td>\n",
       "      <td>Manually digitised; A manually-based procedure...</td>\n",
       "      <td>20.0</td>\n",
       "      <td>Chilean glaciers, between -18 and -56 degrees ...</td>\n",
       "      <td>Universidad de Chile</td>\n",
       "      <td>0</td>\n",
       "      <td>0</td>\n",
       "      <td>0</td>\n",
       "      <td>0</td>\n",
       "      <td>Bown, Francisca</td>\n",
       "      <td>Rivera, Andres</td>\n",
       "      <td>POLYGON Z ((-73.33914 -47.41311 0.00000, -73.3...</td>\n",
       "    </tr>\n",
       "    <tr>\n",
       "      <th>353372</th>\n",
       "      <td>intrnl_rock</td>\n",
       "      <td>2154.0</td>\n",
       "      <td>G286669E47411S</td>\n",
       "      <td>2005-07-14T23:33:02</td>\n",
       "      <td>1.00</td>\n",
       "      <td>0.999455</td>\n",
       "      <td>0.0</td>\n",
       "      <td>0.0</td>\n",
       "      <td>0.0</td>\n",
       "      <td>0.0</td>\n",
       "      <td>0.0</td>\n",
       "      <td>0.0</td>\n",
       "      <td>2001-03-11T00:00:00</td>\n",
       "      <td>okay</td>\n",
       "      <td>None</td>\n",
       "      <td>55</td>\n",
       "      <td>NPI-55</td>\n",
       "      <td>None</td>\n",
       "      <td>100.0</td>\n",
       "      <td>2005-12-20T19:43:58</td>\n",
       "      <td>Manually digitised; A manually-based procedure...</td>\n",
       "      <td>20.0</td>\n",
       "      <td>Chilean glaciers, between -18 and -56 degrees ...</td>\n",
       "      <td>Universidad de Chile</td>\n",
       "      <td>0</td>\n",
       "      <td>0</td>\n",
       "      <td>0</td>\n",
       "      <td>0</td>\n",
       "      <td>Bown, Francisca</td>\n",
       "      <td>Rivera, Andres</td>\n",
       "      <td>POLYGON Z ((-73.33764 -47.41012 0.00000, -73.3...</td>\n",
       "    </tr>\n",
       "  </tbody>\n",
       "</table>\n",
       "</div>"
      ],
      "text/plain": [
       "          line_type  anlys_id         glac_id           anlys_time  area  \\\n",
       "279735  intrnl_rock  346955.0  G013275E47098N  2012-06-30T00:00:00  0.00   \n",
       "351409  intrnl_rock    2152.0  G286571E47471S  2005-07-14T23:33:02  1.29   \n",
       "353371  intrnl_rock    2154.0  G286669E47411S  2005-07-14T23:33:02  1.00   \n",
       "353372  intrnl_rock    2154.0  G286669E47411S  2005-07-14T23:33:02  1.00   \n",
       "\n",
       "         db_area  width  length  primeclass  min_elev  mean_elev  max_elev  \\\n",
       "279735  0.098722    0.0     0.0         0.0       0.0        0.0       0.0   \n",
       "351409  1.273130    0.0     0.0         0.0       0.0        0.0       0.0   \n",
       "353371  0.999455    0.0     0.0         0.0       0.0        0.0       0.0   \n",
       "353372  0.999455    0.0     0.0         0.0       0.0        0.0       0.0   \n",
       "\n",
       "                   src_date rec_status      glac_name wgms_id local_id  \\\n",
       "279735  2012-06-30T00:00:00       okay  Gstss Kees E,    None     None   \n",
       "351409  2001-03-11T00:00:00       okay           None      50   NPI-50   \n",
       "353371  2001-03-11T00:00:00       okay           None      55   NPI-55   \n",
       "353372  2001-03-11T00:00:00       okay           None      55   NPI-55   \n",
       "\n",
       "       glac_stat  subm_id           release_dt  \\\n",
       "279735    exists    603.0  2016-03-07T09:00:00   \n",
       "351409      None    100.0  2005-12-20T19:43:58   \n",
       "353371      None    100.0  2005-12-20T19:43:58   \n",
       "353372      None    100.0  2005-12-20T19:43:58   \n",
       "\n",
       "                                                proc_desc  rc_id  \\\n",
       "279735  Where no lidar data were available,the GI 2 gl...   34.0   \n",
       "351409  Manually digitised; A manually-based procedure...   20.0   \n",
       "353371  Manually digitised; A manually-based procedure...   20.0   \n",
       "353372  Manually digitised; A manually-based procedure...   20.0   \n",
       "\n",
       "                                                geog_area  \\\n",
       "279735                                      Austrian Alps   \n",
       "351409  Chilean glaciers, between -18 and -56 degrees ...   \n",
       "353371  Chilean glaciers, between -18 and -56 degrees ...   \n",
       "353372  Chilean glaciers, between -18 and -56 degrees ...   \n",
       "\n",
       "                    chief_affl  loc_unc_x  loc_unc_y  glob_unc_x  glob_unc_y  \\\n",
       "279735  Universitaet Innsbruck         50         50          30          30   \n",
       "351409    Universidad de Chile          0          0           0           0   \n",
       "353371    Universidad de Chile          0          0           0           0   \n",
       "353372    Universidad de Chile          0          0           0           0   \n",
       "\n",
       "             submitters         analysts  \\\n",
       "279735  Fischer, Andrea  Fischer, Andrea   \n",
       "351409  Bown, Francisca   Rivera, Andres   \n",
       "353371  Bown, Francisca   Rivera, Andres   \n",
       "353372  Bown, Francisca   Rivera, Andres   \n",
       "\n",
       "                                                 geometry  \n",
       "279735  POLYGON Z ((13.28654 47.09805 0.00000, 13.2865...  \n",
       "351409  POLYGON Z ((-73.42454 -47.46965 0.00000, -73.4...  \n",
       "353371  POLYGON Z ((-73.33914 -47.41311 0.00000, -73.3...  \n",
       "353372  POLYGON Z ((-73.33764 -47.41012 0.00000, -73.3...  "
      ]
     },
     "execution_count": 28,
     "metadata": {},
     "output_type": "execute_result"
    }
   ],
   "source": [
    "# glac_id that were lost in the subsetting\n",
    "unnacounted21 = polygons[polygons.glac_id.isin(unaccounted2.glacier_id)]\n",
    "unnacounted21"
   ]
  },
  {
   "cell_type": "markdown",
   "id": "9cf09158-7155-4ce2-b1be-ffe23ee30e6b",
   "metadata": {},
   "source": [
    "Considering these glaciers to have existed at least at some point, the points data provides the most complete count of glaciers.\n",
    "\n",
    "### Compare Summary Statistics\n",
    "\n",
    "These counts can be compared with the GLIMS [Summary Statistics](http://glims.colorado.edu/glacierdata/db_summary_stats.php) page (unknown date of last update, accessed Aug 3, 2023).\n",
    "\n",
    "| Basic Statistic | EDA Counts | Summary Statistics Report | \n",
    "| --------------- | --------------- | --------------- |\n",
    "| Number of glaciers    | 328116 (points glacial_id)    | 444740 (200,000)    | \n",
    "| Number of glacier analyses (snapshots)    | 565887 (polygons anlys_id)   | 699217    | \n",
    "\n",
    "The page notes that some glaciers were double-counted by having multiple glacier ID, that this problem would eventually be fixed, and that 200,000 was a reasonable estimate for the number of glaciers on earth. This may explain why the counts of this EDA are lower, if its data is more recent.\n",
    "\n",
    "### Count Analyses\n",
    "The page also states that 173148 glaciers have multi-temporal coverage. This means many glaciers were analyzed more than once, an explanation for glac_id << (geometries < anlyt_id < row entries). To demonstrate:"
   ]
  },
  {
   "cell_type": "code",
   "execution_count": 29,
   "id": "a0f4df74-bbca-49ed-b1bc-be98bbb8ac21",
   "metadata": {},
   "outputs": [
    {
     "name": "stdout",
     "output_type": "stream",
     "text": [
      "392739 ≈ 328116\n",
      "526069 ≈ 565887\n"
     ]
    }
   ],
   "source": [
    "# EDA\n",
    "print(565887 - 173148, \"\\u2248\", 328116)\n",
    "\n",
    "# GLIMS Summary Statistics Report\n",
    "print(699217 - 173148, \"\\u2248\", 565887)"
   ]
  },
  {
   "cell_type": "code",
   "execution_count": 30,
   "id": "85e29e47-ac04-416b-b7fe-a4f65566a5d1",
   "metadata": {},
   "outputs": [
    {
     "data": {
      "text/plain": [
       "G302228E64270S    75\n",
       "G299054E63854S    33\n",
       "G068799E49603S    29\n",
       "G008010E46588N    22\n",
       "G011972E47060N    21\n",
       "                  ..\n",
       "G285246E81397N     1\n",
       "G286657E80112N     1\n",
       "G280384E81976N     1\n",
       "G288449E80529N     1\n",
       "G278941E82406N     1\n",
       "Name: glac_id, Length: 328112, dtype: int64"
      ]
     },
     "execution_count": 30,
     "metadata": {},
     "output_type": "execute_result"
    }
   ],
   "source": [
    "# See some recurring glacier ids\n",
    "polygons2.glac_id.value_counts()"
   ]
  },
  {
   "cell_type": "code",
   "execution_count": 31,
   "id": "5d9979c5-3dc7-41c3-9440-16faf87b59c1",
   "metadata": {},
   "outputs": [
    {
     "data": {
      "text/plain": [
       "264610    False\n",
       "277696    False\n",
       "278454    False\n",
       "278455    False\n",
       "278456    False\n",
       "278457    False\n",
       "278458    False\n",
       "278459    False\n",
       "278460    False\n",
       "280076    False\n",
       "280077    False\n",
       "280078    False\n",
       "280079    False\n",
       "280080    False\n",
       "280081    False\n",
       "280082    False\n",
       "329749    False\n",
       "380530    False\n",
       "556594    False\n",
       "556595    False\n",
       "556596    False\n",
       "dtype: bool"
      ]
     },
     "execution_count": 31,
     "metadata": {},
     "output_type": "execute_result"
    }
   ],
   "source": [
    "# Investigate one of the recurring glacier ids.\n",
    "# Each of its rows are unique - in which fields do they differ?\n",
    "G011972E47060N = polygons2[polygons2.glac_id==\"G011972E47060N\"]\n",
    "G011972E47060N.duplicated()"
   ]
  },
  {
   "cell_type": "code",
   "execution_count": 32,
   "id": "3e040450-e6a5-4b05-acd1-bf329f4437d3",
   "metadata": {},
   "outputs": [],
   "source": [
    "# In which fields do they differ?\n",
    "# Some have different anlys_id and anlys_time entries\n",
    "G011972E47060N.head()"
   ]
  },
  {
   "cell_type": "code",
   "execution_count": 33,
   "id": "93a9e36b-0825-4938-9628-3bbb941b20a3",
   "metadata": {},
   "outputs": [
    {
     "ename": "NameError",
     "evalue": "name 'stop' is not defined",
     "output_type": "error",
     "traceback": [
      "\u001b[0;31m---------------------------------------------------------------------------\u001b[0m",
      "\u001b[0;31mNameError\u001b[0m                                 Traceback (most recent call last)",
      "Cell \u001b[0;32mIn [33], line 1\u001b[0m\n\u001b[0;32m----> 1\u001b[0m \u001b[43mstop\u001b[49m\n",
      "\u001b[0;31mNameError\u001b[0m: name 'stop' is not defined"
     ]
    }
   ],
   "source": [
    "# The rest have differing geometry\n",
    "G011972E47060N.iloc[2] == G011972E47060N.iloc[3]"
   ]
  },
  {
   "cell_type": "code",
   "execution_count": null,
   "id": "c819c345-03ca-4277-8202-36ad6862edb0",
   "metadata": {},
   "outputs": [],
   "source": [
    "# Apparently these disconnected polygons belong to the same glacier ID\n",
    "G011972E47060Nab=G011972E47060N.iloc[2:4]\n",
    "G011972E47060Nab.plot(cmap='Paired');"
   ]
  },
  {
   "cell_type": "code",
   "execution_count": null,
   "id": "0b35cca1-9df7-4803-b94c-a5bcda90bb1a",
   "metadata": {},
   "outputs": [],
   "source": [
    "\n",
    "# Map examples of glacier size changes/stability across analyses\n",
    "\n",
    "# Map example of glacier having >1 glacial polygons. "
   ]
  },
  {
   "cell_type": "markdown",
   "id": "eb74cb13-5f4f-4a31-b740-4506df154ac8",
   "metadata": {},
   "source": [
    "## Categorical - non-id"
   ]
  },
  {
   "cell_type": "code",
   "execution_count": null,
   "id": "b697d3df-28f6-4874-85b9-7529a5c8be55",
   "metadata": {},
   "outputs": [],
   "source": [
    "# Change datatype of primeclass column\n",
    "polygons3['primeclass'] = polygons3['primeclass'].astype('category')\n",
    "polygons3.dtypes\n",
    "\n",
    "# A few hundred glaciers are gone; None means data NA\n",
    "plt.bar(polygons3.glac_stat.value_counts().index, polygons3.glac_stat.value_counts().values);\n",
    "polygons3.glac_stat.value_counts()\n",
    "\n",
    "#Perhaps number of gone glaciers consistent with number of zero area glaciers (db_area)\n",
    "dimensions.eq(0).sum()\n",
    "\n",
    "# Most glaciers are in the uncertain / misc category\n",
    "plt.bar(polygons3.primeclass.value_counts().index, polygons3.primeclass.value_counts().values);\n",
    "polygons3.primeclass.value_counts()\n",
    "\n",
    "\n",
    "#cats = polygons3[['primeclass','glac_stat']]\n",
    "#cats.groupby(['glac_stat','primeclass']).size().unstack(fill_value=0).plot(kind='bar');"
   ]
  },
  {
   "cell_type": "markdown",
   "id": "476136c9-c1f4-4d35-b96b-11e7fb24c816",
   "metadata": {},
   "source": [
    "## Continuous - T\n",
    "\n",
    "Which time field(s) are useful and pertain to other measurement fields? The User Guide does not mention anlys_time, while the GLIMS Description of fields describes anlys_time as when analysis was carried out. Both associate src_date with the glacier outlines. Exploration is inconclusive.\n",
    "\n",
    "According to the [Summary Statistics](http://glims.colorado.edu/glacierdata/db_summary_stats.php) page, 173007 out of 444633 glaciers have multitemporal coverage."
   ]
  },
  {
   "cell_type": "code",
   "execution_count": null,
   "id": "cbddcbf0-8e82-43fb-acc2-23a43245d2e7",
   "metadata": {},
   "outputs": [],
   "source": [
    "polygons2.iloc[:,[3,12]]"
   ]
  },
  {
   "cell_type": "code",
   "execution_count": null,
   "id": "1a187318-aa6d-4aab-965c-84177c6790b4",
   "metadata": {},
   "outputs": [],
   "source": [
    "# convert time columns to datetime format\n",
    "polygons3=polygons2\n",
    "polygons3['anlys_time'] = pd.to_datetime(polygons3['anlys_time'])\n",
    "polygons3['src_date'] = pd.to_datetime(polygons3['src_date'])\n",
    "polygons3.dtypes"
   ]
  },
  {
   "cell_type": "code",
   "execution_count": null,
   "id": "90ef5296-90cf-4b75-9c15-523b6aedd910",
   "metadata": {},
   "outputs": [],
   "source": [
    "polygons3.iloc[:,[3,12]].sample(10)"
   ]
  },
  {
   "cell_type": "code",
   "execution_count": null,
   "id": "17f987d7-76f1-44a1-93b1-d438aa3cfb22",
   "metadata": {},
   "outputs": [],
   "source": [
    "polygons3.iloc[:,[3,12]].describe()"
   ]
  },
  {
   "cell_type": "code",
   "execution_count": null,
   "id": "2c57c292-ddc3-46ab-8245-16a819bf13d9",
   "metadata": {},
   "outputs": [],
   "source": [
    "# src_date is usually older than anlys_time, but not always. Not sure why.\n",
    "timely = polygons3['anlys_time'] > polygons3['src_date']\n",
    "timely.value_counts()"
   ]
  },
  {
   "cell_type": "code",
   "execution_count": null,
   "id": "eac554f5-b359-4b0a-9baf-06ef7eaad032",
   "metadata": {},
   "outputs": [],
   "source": [
    "# Visualization confirms src_date tends to be older.\n",
    "polygons3.src_date.hist(label='src_date');\n",
    "polygons3.anlys_time.hist(label='anlys_time');\n",
    "plt.title('anlys_time');\n",
    "plt.legend();"
   ]
  },
  {
   "cell_type": "markdown",
   "id": "77eb79f7-b59b-45d4-a3dc-e0718d7b1687",
   "metadata": {},
   "source": [
    "## Continuous - Elevation\n",
    "Half of glaciers have elevations around sealevel, and a few below, which seems dubious as they are usually high in the mountains."
   ]
  },
  {
   "cell_type": "code",
   "execution_count": null,
   "id": "0b1b1b1c-9def-476c-933e-4c167d549dce",
   "metadata": {},
   "outputs": [],
   "source": [
    "elevations = polygons3.iloc[:, 9:12]\n",
    "elevations"
   ]
  },
  {
   "cell_type": "code",
   "execution_count": null,
   "id": "435a7739-5d7a-4ddc-b83f-36f1c1200541",
   "metadata": {},
   "outputs": [],
   "source": [
    "elevations.hist();\n",
    "plt.tight_layout();"
   ]
  },
  {
   "cell_type": "code",
   "execution_count": null,
   "id": "c187bfef-854a-4841-9e6a-c50830fc2c53",
   "metadata": {},
   "outputs": [],
   "source": [
    "# Elevations have many zero values and a few negative values...?\n",
    "plt.style.use('default')\n",
    "plt.hist(elevations.min_elev, alpha=0.5, bins=30, label='Min Elevation')\n",
    "plt.hist(elevations.mean_elev, alpha=0.5, bins=30, label='Mean Elevation')\n",
    "plt.hist(elevations.max_elev, alpha=0.5, bins=30, label='Max Elevation')\n",
    "plt.legend();\n",
    "plt.title('Elevations');"
   ]
  },
  {
   "cell_type": "code",
   "execution_count": null,
   "id": "d373bd61-d2cc-439b-9b6c-11f5c07f5b9e",
   "metadata": {},
   "outputs": [],
   "source": [
    "elevations.describe()"
   ]
  },
  {
   "cell_type": "code",
   "execution_count": null,
   "id": "b985bf29-3366-4482-a00c-09415ff5bcad",
   "metadata": {},
   "outputs": [],
   "source": [
    "# Quite a lot of data near zero (glaciers at sea level)\n",
    "plt.violinplot(elevations);"
   ]
  },
  {
   "cell_type": "code",
   "execution_count": null,
   "id": "9c4948c4-9492-443b-97cc-512ade205ea7",
   "metadata": {},
   "outputs": [],
   "source": [
    "# Nearly half or more are zero\n",
    "elevations.eq(0).sum() / elevations.shape[0]"
   ]
  },
  {
   "cell_type": "code",
   "execution_count": null,
   "id": "778310d5-eb2f-48a6-94fa-b4cc747ee8fd",
   "metadata": {},
   "outputs": [],
   "source": [
    "# Nearly half of the zeros coincide --- real or no data?\n",
    "elevations[elevations.min_elev == elevations.max_elev].eq(0).sum() / elevations.shape[0]"
   ]
  },
  {
   "cell_type": "code",
   "execution_count": null,
   "id": "bc61a15c-a228-4ef7-a641-cf06ea5da158",
   "metadata": {},
   "outputs": [],
   "source": [
    "# Negative values only seem to be around -10000 ...?\n",
    "elevations.boxplot(flierprops={'marker': 'o', 'markersize': 5, 'markerfacecolor': 'red'});"
   ]
  },
  {
   "cell_type": "code",
   "execution_count": null,
   "id": "2514f487-a446-47bf-9635-e905a9d25630",
   "metadata": {},
   "outputs": [],
   "source": [
    "# These few glaciers are below sealevel\n",
    "print(len(polygons3[polygons3.min_elev<0]))\n",
    "print(len(polygons3[polygons3.mean_elev<0]))\n",
    "print(len(polygons3[polygons3.max_elev<0]))"
   ]
  },
  {
   "cell_type": "code",
   "execution_count": null,
   "id": "6dd72101-ae6c-4d3b-9bbe-4476a8124eb0",
   "metadata": {},
   "outputs": [],
   "source": [
    "# Most of them coincide\n",
    "print(polygons3[ (polygons3.min_elev<0) & (polygons3.mean_elev<0) & (polygons3.max_elev<0)].shape)\n",
    "print(polygons3[ (polygons3.min_elev<0) | (polygons3.mean_elev<0) | (polygons3.max_elev<0)].shape)"
   ]
  },
  {
   "cell_type": "code",
   "execution_count": null,
   "id": "dcd85ffa-eb70-4977-b602-5697e153d0cd",
   "metadata": {},
   "outputs": [],
   "source": [
    "# Where are they? Create of subset of these low glaciers for visualization\n",
    "submarine = polygons3[ (polygons3.min_elev<0) | (polygons3.mean_elev<0) | (polygons3.max_elev<0)]\n",
    "submarine.shape, submarine.crs "
   ]
  },
  {
   "cell_type": "code",
   "execution_count": null,
   "id": "e4f36643-3846-4ee1-912e-5b247346f35e",
   "metadata": {},
   "outputs": [],
   "source": [
    "# They seem to be in NW USA and Nepal. Data errors?\n",
    "fig, ax = plt.subplots(figsize=(10, 8))\n",
    "world.boundary.plot(ax=ax, edgecolor = 'black', linewidth=0.2);\n",
    "submarine['geometry'].centroid.plot(ax=ax, marker='.', color='red', markersize=10);\n",
    "ax.set_xlim(submarine.total_bounds[0]-5, submarine.total_bounds[2]+5)\n",
    "ax.set_ylim(submarine.total_bounds[1]-5, submarine.total_bounds[3]+5)"
   ]
  },
  {
   "cell_type": "raw",
   "id": "097019b9-233e-4117-961a-53123dc479bd",
   "metadata": {},
   "source": [
    "# Merge them with points\n",
    "submarine = pd.merge(submarine, points, left_on = 'glac_id', right_on = 'glacier_id', how='left')\n",
    "submarine.shape, submarine.crs\n",
    "\n",
    "# Map the points, which can be seen together unlike the polygons\n",
    "submarine.geometry_y.plot();"
   ]
  },
  {
   "cell_type": "markdown",
   "id": "d4999e89-7a86-463f-bda3-db46e7acb51d",
   "metadata": {},
   "source": [
    "## Continuous - Area\n",
    "\n",
    "Area of glacier coverage (latest snapshot), km2\t1.20007e+06\n",
    "Note: A good working number for area is approximately 750,000 km2 (not including the ice sheets of Greenland and Antarctica).\n",
    "Earliest analysis\t1750-01-01\n",
    "Most recent analysis\t2021-02-26\n",
    "Number of glaciers with multi-temporal coverage\t173148\n",
    "\n",
    "\n",
    "\n",
    "\n",
    "\n",
    "\n",
    "db_area, calculated by the NSIDC, seems quite complete. \n",
    "\n",
    "area may be less complete, and width and length seem highly incomplete.\n"
   ]
  },
  {
   "cell_type": "code",
   "execution_count": null,
   "id": "976224ed-baad-4ec4-9076-ee1253a9bc90",
   "metadata": {},
   "outputs": [],
   "source": [
    "dimensions = polygons3.iloc[:, 4:8]\n",
    "dimensions"
   ]
  },
  {
   "cell_type": "code",
   "execution_count": null,
   "id": "40f88ec1-5aa6-4adf-aba3-39e95326964a",
   "metadata": {},
   "outputs": [],
   "source": [
    "dimensions.hist();\n",
    "plt.tight_layout();"
   ]
  },
  {
   "cell_type": "code",
   "execution_count": null,
   "id": "742ac8cf-75cc-436d-b6ec-8129296b5ebf",
   "metadata": {},
   "outputs": [],
   "source": [
    "dimensions.describe()"
   ]
  },
  {
   "cell_type": "code",
   "execution_count": null,
   "id": "c80281eb-2016-4369-a7c4-73f567bbb6f5",
   "metadata": {},
   "outputs": [],
   "source": [
    "# their scales are quite different\n",
    "dimensions.boxplot(flierprops={'marker': 'o', 'markersize': 5, 'markerfacecolor': 'red'});"
   ]
  },
  {
   "cell_type": "code",
   "execution_count": null,
   "id": "239ac406-a278-4f7c-a707-56b388523059",
   "metadata": {},
   "outputs": [],
   "source": [
    "# most of the data is around zero\n",
    "fig, axs = plt.subplots(2, 4)\n",
    "axs[0, 0].boxplot(dimensions.area, flierprops={'marker': 'o', 'markersize': 5,  'markerfacecolor': 'red'});\n",
    "axs[0, 1].violinplot(dimensions.area);\n",
    "axs[0, 2].boxplot(dimensions.db_area, flierprops={'marker': 'o', 'markersize': 5, 'markerfacecolor': 'red'});\n",
    "axs[0, 3].violinplot(dimensions.db_area);\n",
    "axs[1, 0].boxplot(dimensions.width, flierprops={'marker': 'o', 'markersize': 5, 'markerfacecolor': 'red'});\n",
    "axs[1, 1].violinplot(dimensions.width);\n",
    "axs[1, 2].boxplot(dimensions.length, flierprops={'marker': 'o', 'markersize': 5, 'markerfacecolor': 'red'});\n",
    "axs[1, 3].violinplot(dimensions.length);"
   ]
  },
  {
   "cell_type": "code",
   "execution_count": null,
   "id": "e142bafd-6e01-4010-8b23-6f268bc699ba",
   "metadata": {},
   "outputs": [],
   "source": [
    "# width and length are almost all zero - because of lack of data?\n",
    "# area also has substantial zeros, while db_area has hardly any zeroes\n",
    "dimensions.eq(0).sum() / dimensions.shape[0]"
   ]
  },
  {
   "cell_type": "raw",
   "id": "e804293b-7457-482d-9f79-953cab2a10c0",
   "metadata": {},
   "source": [
    "# glacier dimensions are highly skewed - try log transformation\n",
    "c=0.0001 # because log(0)= -inf\n",
    "area = np.log(polygons2.iloc[:, 4:9]+c) \n",
    "area.hist();\n",
    "plt.tight_layout();"
   ]
  },
  {
   "cell_type": "code",
   "execution_count": null,
   "id": "55343936-8681-4d17-a2d2-e7c7d79831e6",
   "metadata": {},
   "outputs": [],
   "source": []
  },
  {
   "cell_type": "code",
   "execution_count": null,
   "id": "4719f135-6f9b-4a0c-bc28-56e724f472bd",
   "metadata": {},
   "outputs": [],
   "source": []
  },
  {
   "cell_type": "code",
   "execution_count": null,
   "id": "64157eb4-1694-4c05-87e4-3efd548417ac",
   "metadata": {},
   "outputs": [],
   "source": []
  },
  {
   "cell_type": "raw",
   "id": "d778cda9-f0df-4ecf-ac24-7f4d84526722",
   "metadata": {},
   "source": []
  },
  {
   "cell_type": "markdown",
   "id": "ccb690d2-12c2-4539-95a0-5d41dcc1caf8",
   "metadata": {},
   "source": []
  },
  {
   "cell_type": "code",
   "execution_count": null,
   "id": "38b55e00-51ef-4ded-973c-0a9dbc0efabd",
   "metadata": {},
   "outputs": [],
   "source": []
  },
  {
   "cell_type": "code",
   "execution_count": null,
   "id": "272e5f69-e754-4fbd-b635-b6e7452ef6d6",
   "metadata": {},
   "outputs": [],
   "source": []
  },
  {
   "cell_type": "code",
   "execution_count": null,
   "id": "7e078d32-4f71-4107-955f-1808f723926d",
   "metadata": {},
   "outputs": [],
   "source": []
  },
  {
   "cell_type": "code",
   "execution_count": null,
   "id": "ced9f6f4-12d8-46a9-8a27-e1e2cd5f6432",
   "metadata": {},
   "outputs": [],
   "source": []
  },
  {
   "cell_type": "code",
   "execution_count": null,
   "id": "6bbad066",
   "metadata": {},
   "outputs": [],
   "source": []
  },
  {
   "cell_type": "code",
   "execution_count": null,
   "id": "eda162fc",
   "metadata": {},
   "outputs": [],
   "source": []
  },
  {
   "cell_type": "code",
   "execution_count": null,
   "id": "c904aca0",
   "metadata": {},
   "outputs": [],
   "source": []
  },
  {
   "cell_type": "code",
   "execution_count": null,
   "id": "09a05435-27be-4c45-8d0a-538222c34eba",
   "metadata": {},
   "outputs": [],
   "source": []
  },
  {
   "cell_type": "code",
   "execution_count": null,
   "id": "3b0e4753",
   "metadata": {},
   "outputs": [],
   "source": []
  },
  {
   "cell_type": "code",
   "execution_count": null,
   "id": "d4a496e5",
   "metadata": {},
   "outputs": [],
   "source": []
  },
  {
   "cell_type": "code",
   "execution_count": null,
   "id": "2bcf849e",
   "metadata": {},
   "outputs": [],
   "source": []
  }
 ],
 "metadata": {
  "kernelspec": {
   "display_name": "Python 3 (ipykernel)",
   "language": "python",
   "name": "python3"
  },
  "language_info": {
   "codemirror_mode": {
    "name": "ipython",
    "version": 3
   },
   "file_extension": ".py",
   "mimetype": "text/x-python",
   "name": "python",
   "nbconvert_exporter": "python",
   "pygments_lexer": "ipython3",
   "version": "3.10.7"
  }
 },
 "nbformat": 4,
 "nbformat_minor": 5
}
